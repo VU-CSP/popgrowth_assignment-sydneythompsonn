{
  "cells": [
    {
      "cell_type": "markdown",
      "metadata": {
        "id": "view-in-github",
        "colab_type": "text"
      },
      "source": [
        "<a href=\"https://colab.research.google.com/github/VU-CSP/popgrowth_assignment-sydneythompsonn/blob/main/HW2_assignment_sydneythompson.ipynb\" target=\"_parent\"><img src=\"https://colab.research.google.com/assets/colab-badge.svg\" alt=\"Open In Colab\"/></a>"
      ]
    },
    {
      "cell_type": "markdown",
      "id": "03994108-9a10-4b4c-b4bf-0a48f6d1c023",
      "metadata": {
        "id": "03994108-9a10-4b4c-b4bf-0a48f6d1c023"
      },
      "source": [
        "# Analysis of Cell Proliferation\n",
        "## Objectives\n",
        "This notebook has sections designed to:\n",
        "1) Provide background on cell proliferation  \n",
        "2) Describe basic mathematical models of population growth  \n",
        "3) Analyze dynamic cell count data  \n",
        "4) Perform linear and nonlinear regression of models fit to cell count data  \n",
        "5) Create functions in Python to perform calcuations \n",
        "\n",
        "## Cell proliferation\n",
        "### Nomenclature\n",
        "* _Growth_ can mean an increase in mass or volume (at the individual level)\n",
        "* _Growth_ can also indicate an increase in population size (e.g. the number of cells in a tumor)\n",
        "* _Proliferation_ generally refers to change in the number of individuals within a group (e.g. exponential population growth)\n",
        "* _Tumor growth_ generally refers to the size of the tumor, but an increase in the number of tumor cells is implicit\n",
        "\n",
        "### Typical assays of proliferation, survival and death\n",
        "* Usually performed to test effects of perturbation (e.g. a drug)  \n",
        "* Most are static assays (take a snapshot)  \n",
        "* Multiple measurements require multiple samples (since they are destructive)  \n",
        "* Typically reported as fraction of control or percent change (relative, not absolute metrics)  \n",
        "* Biomarkers of the processes that change cell population size  \n",
        "\n",
        "Images below are representatives of 1) fluorescence microscopy of calcein/propidium iodide stained cells, 2) flow cytometry of cells stained with FxCycle violet and phospho-histone H3, 3) fluorescence microscopy of annexin A5-fluorescein-stained cells and 4) fluorescence microscopy of cells after addition of caspase 3 substrate that becomes fluorogenic upon cleavage by caspase 3 (pink).  \n",
        "\n",
        "\n",
        "\n",
        "<table>\n",
        "    <tr>\n",
        "      <td>\n",
        "      <img src=\"https://github.com/VU-CSP/quantbio-assignments/blob/main/img/calcein-PI.png?raw=1\" style=\"width: 200px;\" />\n",
        "      </td>\n",
        "      <td>\n",
        "      <img src=\"https://github.com/VU-CSP/quantbio-assignments/blob/main/img/flow-mitosis.png?raw=1\" style=\"width: 200px;\" />\n",
        "      </td>\n",
        "      <td>\n",
        "      <img src=\"https://github.com/VU-CSP/quantbio-assignments/blob/main/img/Anx5.png?raw=1\" style=\"width: 200px;\" />\n",
        "      </td>\n",
        "      <td>\n",
        "      <img src=\"https://github.com/VU-CSP/quantbio-assignments/blob/main/img/activeCasp3.png?raw=1\" style=\"width: 200px;\" />\n",
        "      </td>\n",
        "     </tr>\n",
        "</table>"
      ]
    },
    {
      "cell_type": "markdown",
      "id": "7ac8861e-0e5d-4d2f-b442-238f48bafd7d",
      "metadata": {
        "id": "7ac8861e-0e5d-4d2f-b442-238f48bafd7d"
      },
      "source": [
        "### Exponential growth\n",
        "#### _A math refresher_\n",
        "<img src=\"https://github.com/VU-CSP/quantbio-assignments/blob/main/img/Math-ugh.png?raw=1\" style=\"width: 500px;\"/>\n",
        "\n",
        "* Definition of Logarithm: $log_e e^x = x$, where $e > 0$ and $e ≠ 1$   \n",
        "* Product Rule: $log(xy) = log(x) + log(y)$\n",
        "* Base change rule: $log_a(n) = log_b(n)/log_a(b)$  \n",
        "\n",
        "#### **Exponential growth equation**\n",
        "$P(t) = P_0e^{at}$, where  \n",
        "$P(t)$ is the population size at time = $t$,  \n",
        "$P_0$ is initial population size, and  \n",
        "$a$ is the growth rate constant.\n",
        "\n",
        "_The logarithm of the growth equation is linear_  \n",
        "$log_e P(t) = log_e P_0e^{at} = log_e P_0 + log_e e^{at} = log_e P_0 + at$  \n",
        "\n",
        "_(reorganizing to the form of $y = ax + b$)_  \n",
        "$log_e P(t) = at + log_e P_0$, where,  \n",
        "growth rate = $a$ = _slope of the line_ and log of initial population size = _y intercept_   \n",
        "\n",
        "##### **This means that you can fit exponentially growing population data with linear models**\n",
        "\n",
        "This also works in log2 scale using a population doubling function:  \n",
        "$P(t) = P_02^{at}$,  \n",
        "which allows for an easier biological interpretation."
      ]
    },
    {
      "cell_type": "markdown",
      "id": "25b229c6-432b-4d6c-9979-0f67c3246d34",
      "metadata": {
        "id": "25b229c6-432b-4d6c-9979-0f67c3246d34"
      },
      "source": [
        "## Plotting and interpreting cell population growth data\n",
        "These graphs were previously generated and are shown for reference. Data are shown in linear, log2 and normalized log2 scales. Lines shown on log2 and normalized log2 plots represent linear model fits and the slope (proliferation rate) and doubling time (1/proliferation rate) parameters of the optimal model fit are shown.  \n",
        "\n",
        "<img src=\"https://github.com/VU-CSP/quantbio-assignments/blob/main/img/pop_growth_difft_scales.png?raw=1\" style=\"width: 800px;\" />\n"
      ]
    },
    {
      "cell_type": "markdown",
      "id": "f5d5336f-8a1c-4beb-adc0-6ba4e0b63804",
      "metadata": {
        "id": "f5d5336f-8a1c-4beb-adc0-6ba4e0b63804"
      },
      "source": [
        "### Divergence from exponential growth\n",
        "There are numerous conditions that result in non-exponential cell population growth, for example, when cells fill in their available space (a.k.a. contact inhibition).  \n"
      ]
    },
    {
      "cell_type": "markdown",
      "id": "095e56de",
      "metadata": {
        "id": "095e56de"
      },
      "source": [
        "<img src=\"https://github.com/VU-CSP/quantbio-assignments/blob/main/img/contact_inhibition.png?raw=1\" style=\"width: 300px;\"/>  "
      ]
    },
    {
      "cell_type": "markdown",
      "id": "bcafe3ca",
      "metadata": {
        "id": "bcafe3ca"
      },
      "source": [
        "There are some specific models that have been used to model growth inhibition, including the \n",
        "**Logistic** and **Gompertz** functions.  \n"
      ]
    },
    {
      "cell_type": "markdown",
      "id": "fa4c4a18-c3cc-47ea-9e68-5f468497ff94",
      "metadata": {
        "id": "fa4c4a18-c3cc-47ea-9e68-5f468497ff94"
      },
      "source": [
        "<img src=\"https://github.com/VU-CSP/quantbio-assignments/blob/main/img/evidence_for_Gompertz_tumors.png?raw=1\" style=\"width: 800px;\"/>  \n",
        "<img src=\"https://github.com/VU-CSP/quantbio-assignments/blob/main/img/logistic_growth_model.jpeg?raw=1\" style=\"width: 800px;\"/>  \n",
        "<img src=\"https://github.com/VU-CSP/quantbio-assignments/blob/main/img/gompertz_growth_model.jpeg?raw=1\" style=\"width: 800px;\"/>  \n"
      ]
    },
    {
      "cell_type": "markdown",
      "id": "ec305d36-2c3b-4d52-b806-054b615a84f7",
      "metadata": {
        "id": "ec305d36-2c3b-4d52-b806-054b615a84f7"
      },
      "source": [
        "_We will do some exploratory data analysis of a small cell count data set to interpret how populations of cells grow in culture._\n",
        "-----"
      ]
    },
    {
      "cell_type": "markdown",
      "id": "40e0a719-37e3-4a84-8668-769a294dd293",
      "metadata": {
        "id": "40e0a719-37e3-4a84-8668-769a294dd293"
      },
      "source": [
        "### First, import necessary Python packages"
      ]
    },
    {
      "cell_type": "code",
      "execution_count": null,
      "id": "549f8f33-de74-4ddd-9645-22a758ea2814",
      "metadata": {
        "id": "549f8f33-de74-4ddd-9645-22a758ea2814"
      },
      "outputs": [],
      "source": [
        "import numpy as np\n",
        "import pandas as pd\n",
        "import seaborn as sns\n",
        "import matplotlib.pyplot as plt\n",
        "import os"
      ]
    },
    {
      "cell_type": "markdown",
      "id": "Sfrp0w8cysS1",
      "metadata": {
        "id": "Sfrp0w8cysS1"
      },
      "source": [
        "See whether we are running in Google Colab or not."
      ]
    },
    {
      "cell_type": "code",
      "execution_count": null,
      "id": "CLSZT8xMyphI",
      "metadata": {
        "id": "CLSZT8xMyphI"
      },
      "outputs": [],
      "source": [
        "try:\n",
        "  import google.colab\n",
        "  IN_COLAB = True\n",
        "except:\n",
        "  IN_COLAB = False"
      ]
    },
    {
      "cell_type": "markdown",
      "id": "ad299e4b-bd09-40c9-93ce-a8959d76a375",
      "metadata": {
        "id": "ad299e4b-bd09-40c9-93ce-a8959d76a375"
      },
      "source": [
        "### Load custom functions\n",
        "File name `growth_fxns.py` includes functions for:  \n",
        "* flattening a matrix (nested lists): `flatten_matrix`  \n",
        "* stochastic simulation of exponential growth: `gillespie_growth`  \n",
        "* deterministic solution of exponential growth: `exp_growth`  \n",
        "    \n",
        "* deterministic solution of logistic growth: `mylogistic`\n",
        "* deterministic solution of Gompertzian growth: `gompertz`\n"
      ]
    },
    {
      "cell_type": "code",
      "execution_count": null,
      "id": "c72e3dc2-f48c-447a-95de-f428c2f6b3da",
      "metadata": {
        "id": "c72e3dc2-f48c-447a-95de-f428c2f6b3da",
        "colab": {
          "base_uri": "https://localhost:8080/"
        },
        "outputId": "9d051613-f36f-4ac2-c1a2-162d71479acd"
      },
      "outputs": [
        {
          "output_type": "stream",
          "name": "stdout",
          "text": [
            "--2023-02-28 01:15:54--  https://raw.githubusercontent.com/VU-CSP/quantbio-assignments/main/growth_fxns.py\n",
            "Resolving raw.githubusercontent.com (raw.githubusercontent.com)... 185.199.108.133, 185.199.109.133, 185.199.110.133, ...\n",
            "Connecting to raw.githubusercontent.com (raw.githubusercontent.com)|185.199.108.133|:443... connected.\n",
            "HTTP request sent, awaiting response... 200 OK\n",
            "Length: 2307 (2.3K) [text/plain]\n",
            "Saving to: ‘growth_fxns.py’\n",
            "\n",
            "growth_fxns.py      100%[===================>]   2.25K  --.-KB/s    in 0s      \n",
            "\n",
            "2023-02-28 01:15:55 (34.3 MB/s) - ‘growth_fxns.py’ saved [2307/2307]\n",
            "\n"
          ]
        }
      ],
      "source": [
        "if IN_COLAB and not os.path.exists(\"growth_fxns.py\"):\n",
        "    !wget \"https://raw.githubusercontent.com/VU-CSP/quantbio-assignments/main/growth_fxns.py\"\n",
        "from growth_fxns import *"
      ]
    },
    {
      "cell_type": "markdown",
      "id": "95fd8d3f-61c2-463d-8b01-1e961269af9c",
      "metadata": {
        "id": "95fd8d3f-61c2-463d-8b01-1e961269af9c"
      },
      "source": [
        "### Adjust seaborn plot settings\n",
        "_To make the graphics prettier._ You can learn more about seaborn at the [seaborn website]()  "
      ]
    },
    {
      "cell_type": "code",
      "execution_count": null,
      "id": "f28ff5a6-dc57-4fe3-a49f-d448f8bbc226",
      "metadata": {
        "id": "f28ff5a6-dc57-4fe3-a49f-d448f8bbc226"
      },
      "outputs": [],
      "source": [
        "sns.set_context(\"notebook\", font_scale=1.5, rc={\"lines.linewidth\": 2.5})"
      ]
    },
    {
      "cell_type": "markdown",
      "id": "fb6587a1-2b3d-4aaf-ad96-c50e6eb7547a",
      "metadata": {
        "id": "fb6587a1-2b3d-4aaf-ad96-c50e6eb7547a"
      },
      "source": [
        "#### Load a small dataset\n",
        "Data from multiwell plate of cells, some of which have been treated with a drug."
      ]
    },
    {
      "cell_type": "code",
      "execution_count": null,
      "id": "5ffdbde1-987c-4817-9487-288cce2d3509",
      "metadata": {
        "colab": {
          "base_uri": "https://localhost:8080/",
          "height": 397
        },
        "id": "5ffdbde1-987c-4817-9487-288cce2d3509",
        "outputId": "04333190-a9d6-49bd-8564-3285cdf2f40e"
      },
      "outputs": [
        {
          "output_type": "stream",
          "name": "stdout",
          "text": [
            "--2023-02-28 01:16:01--  https://raw.githubusercontent.com/VU-CSP/quantbio-assignments/main/MCF10A_trametinib.csv\n",
            "Resolving raw.githubusercontent.com (raw.githubusercontent.com)... 185.199.109.133, 185.199.110.133, 185.199.108.133, ...\n",
            "Connecting to raw.githubusercontent.com (raw.githubusercontent.com)|185.199.109.133|:443... connected.\n",
            "HTTP request sent, awaiting response... 200 OK\n",
            "Length: 13490 (13K) [text/plain]\n",
            "Saving to: ‘MCF10A_trametinib.csv’\n",
            "\n",
            "MCF10A_trametinib.c 100%[===================>]  13.17K  --.-KB/s    in 0.001s  \n",
            "\n",
            "2023-02-28 01:16:01 (17.5 MB/s) - ‘MCF10A_trametinib.csv’ saved [13490/13490]\n",
            "\n"
          ]
        },
        {
          "output_type": "execute_result",
          "data": {
            "text/plain": [
              "  well  time  cell.count            uid       drug1  drug1.conc\n",
              "0  A01   0.8          32  10ACh-28A_H03  trametinib    0.000004\n",
              "1  A01   5.6          25  10ACh-28A_H03  trametinib    0.000004\n",
              "2  A01  10.5          31  10ACh-28A_H03  trametinib    0.000004\n",
              "3  A01  15.3          53  10ACh-28A_H03  trametinib    0.000004\n",
              "4  A01  20.0          39  10ACh-28A_H03  trametinib    0.000004"
            ],
            "text/html": [
              "\n",
              "  <div id=\"df-75f90718-ee5a-43a6-831c-7e2e1f0dd502\">\n",
              "    <div class=\"colab-df-container\">\n",
              "      <div>\n",
              "<style scoped>\n",
              "    .dataframe tbody tr th:only-of-type {\n",
              "        vertical-align: middle;\n",
              "    }\n",
              "\n",
              "    .dataframe tbody tr th {\n",
              "        vertical-align: top;\n",
              "    }\n",
              "\n",
              "    .dataframe thead th {\n",
              "        text-align: right;\n",
              "    }\n",
              "</style>\n",
              "<table border=\"1\" class=\"dataframe\">\n",
              "  <thead>\n",
              "    <tr style=\"text-align: right;\">\n",
              "      <th></th>\n",
              "      <th>well</th>\n",
              "      <th>time</th>\n",
              "      <th>cell.count</th>\n",
              "      <th>uid</th>\n",
              "      <th>drug1</th>\n",
              "      <th>drug1.conc</th>\n",
              "    </tr>\n",
              "  </thead>\n",
              "  <tbody>\n",
              "    <tr>\n",
              "      <th>0</th>\n",
              "      <td>A01</td>\n",
              "      <td>0.8</td>\n",
              "      <td>32</td>\n",
              "      <td>10ACh-28A_H03</td>\n",
              "      <td>trametinib</td>\n",
              "      <td>0.000004</td>\n",
              "    </tr>\n",
              "    <tr>\n",
              "      <th>1</th>\n",
              "      <td>A01</td>\n",
              "      <td>5.6</td>\n",
              "      <td>25</td>\n",
              "      <td>10ACh-28A_H03</td>\n",
              "      <td>trametinib</td>\n",
              "      <td>0.000004</td>\n",
              "    </tr>\n",
              "    <tr>\n",
              "      <th>2</th>\n",
              "      <td>A01</td>\n",
              "      <td>10.5</td>\n",
              "      <td>31</td>\n",
              "      <td>10ACh-28A_H03</td>\n",
              "      <td>trametinib</td>\n",
              "      <td>0.000004</td>\n",
              "    </tr>\n",
              "    <tr>\n",
              "      <th>3</th>\n",
              "      <td>A01</td>\n",
              "      <td>15.3</td>\n",
              "      <td>53</td>\n",
              "      <td>10ACh-28A_H03</td>\n",
              "      <td>trametinib</td>\n",
              "      <td>0.000004</td>\n",
              "    </tr>\n",
              "    <tr>\n",
              "      <th>4</th>\n",
              "      <td>A01</td>\n",
              "      <td>20.0</td>\n",
              "      <td>39</td>\n",
              "      <td>10ACh-28A_H03</td>\n",
              "      <td>trametinib</td>\n",
              "      <td>0.000004</td>\n",
              "    </tr>\n",
              "  </tbody>\n",
              "</table>\n",
              "</div>\n",
              "      <button class=\"colab-df-convert\" onclick=\"convertToInteractive('df-75f90718-ee5a-43a6-831c-7e2e1f0dd502')\"\n",
              "              title=\"Convert this dataframe to an interactive table.\"\n",
              "              style=\"display:none;\">\n",
              "        \n",
              "  <svg xmlns=\"http://www.w3.org/2000/svg\" height=\"24px\"viewBox=\"0 0 24 24\"\n",
              "       width=\"24px\">\n",
              "    <path d=\"M0 0h24v24H0V0z\" fill=\"none\"/>\n",
              "    <path d=\"M18.56 5.44l.94 2.06.94-2.06 2.06-.94-2.06-.94-.94-2.06-.94 2.06-2.06.94zm-11 1L8.5 8.5l.94-2.06 2.06-.94-2.06-.94L8.5 2.5l-.94 2.06-2.06.94zm10 10l.94 2.06.94-2.06 2.06-.94-2.06-.94-.94-2.06-.94 2.06-2.06.94z\"/><path d=\"M17.41 7.96l-1.37-1.37c-.4-.4-.92-.59-1.43-.59-.52 0-1.04.2-1.43.59L10.3 9.45l-7.72 7.72c-.78.78-.78 2.05 0 2.83L4 21.41c.39.39.9.59 1.41.59.51 0 1.02-.2 1.41-.59l7.78-7.78 2.81-2.81c.8-.78.8-2.07 0-2.86zM5.41 20L4 18.59l7.72-7.72 1.47 1.35L5.41 20z\"/>\n",
              "  </svg>\n",
              "      </button>\n",
              "      \n",
              "  <style>\n",
              "    .colab-df-container {\n",
              "      display:flex;\n",
              "      flex-wrap:wrap;\n",
              "      gap: 12px;\n",
              "    }\n",
              "\n",
              "    .colab-df-convert {\n",
              "      background-color: #E8F0FE;\n",
              "      border: none;\n",
              "      border-radius: 50%;\n",
              "      cursor: pointer;\n",
              "      display: none;\n",
              "      fill: #1967D2;\n",
              "      height: 32px;\n",
              "      padding: 0 0 0 0;\n",
              "      width: 32px;\n",
              "    }\n",
              "\n",
              "    .colab-df-convert:hover {\n",
              "      background-color: #E2EBFA;\n",
              "      box-shadow: 0px 1px 2px rgba(60, 64, 67, 0.3), 0px 1px 3px 1px rgba(60, 64, 67, 0.15);\n",
              "      fill: #174EA6;\n",
              "    }\n",
              "\n",
              "    [theme=dark] .colab-df-convert {\n",
              "      background-color: #3B4455;\n",
              "      fill: #D2E3FC;\n",
              "    }\n",
              "\n",
              "    [theme=dark] .colab-df-convert:hover {\n",
              "      background-color: #434B5C;\n",
              "      box-shadow: 0px 1px 3px 1px rgba(0, 0, 0, 0.15);\n",
              "      filter: drop-shadow(0px 1px 2px rgba(0, 0, 0, 0.3));\n",
              "      fill: #FFFFFF;\n",
              "    }\n",
              "  </style>\n",
              "\n",
              "      <script>\n",
              "        const buttonEl =\n",
              "          document.querySelector('#df-75f90718-ee5a-43a6-831c-7e2e1f0dd502 button.colab-df-convert');\n",
              "        buttonEl.style.display =\n",
              "          google.colab.kernel.accessAllowed ? 'block' : 'none';\n",
              "\n",
              "        async function convertToInteractive(key) {\n",
              "          const element = document.querySelector('#df-75f90718-ee5a-43a6-831c-7e2e1f0dd502');\n",
              "          const dataTable =\n",
              "            await google.colab.kernel.invokeFunction('convertToInteractive',\n",
              "                                                     [key], {});\n",
              "          if (!dataTable) return;\n",
              "\n",
              "          const docLinkHtml = 'Like what you see? Visit the ' +\n",
              "            '<a target=\"_blank\" href=https://colab.research.google.com/notebooks/data_table.ipynb>data table notebook</a>'\n",
              "            + ' to learn more about interactive tables.';\n",
              "          element.innerHTML = '';\n",
              "          dataTable['output_type'] = 'display_data';\n",
              "          await google.colab.output.renderOutput(dataTable, element);\n",
              "          const docLink = document.createElement('div');\n",
              "          docLink.innerHTML = docLinkHtml;\n",
              "          element.appendChild(docLink);\n",
              "        }\n",
              "      </script>\n",
              "    </div>\n",
              "  </div>\n",
              "  "
            ]
          },
          "metadata": {},
          "execution_count": 5
        }
      ],
      "source": [
        "if IN_COLAB and not os.path.exists(\"MCF10A_trametinib.csv\"):\n",
        "    !wget \"https://raw.githubusercontent.com/VU-CSP/quantbio-assignments/main/MCF10A_trametinib.csv\"\n",
        "d = pd.read_csv(\"MCF10A_trametinib.csv\")\n",
        "d.head()"
      ]
    },
    {
      "cell_type": "markdown",
      "id": "4ee5278b-1d1e-4427-a596-8151c61ead1a",
      "metadata": {
        "id": "4ee5278b-1d1e-4427-a596-8151c61ead1a"
      },
      "source": [
        "### Add new columns\n",
        "Add values for log2(cell.count) (`l2`) and population doublings (`pd`). Calculating log2 values are easy since it is calculated directly from the `cell.count` values. Population doublings must be normalized for each well independently. To better understand each step, try to pull out the code in smaller chunks and run them in different cells."
      ]
    },
    {
      "cell_type": "code",
      "execution_count": null,
      "id": "4312e53f-babd-475b-91c0-a20cc04b03c1",
      "metadata": {
        "id": "4312e53f-babd-475b-91c0-a20cc04b03c1"
      },
      "outputs": [],
      "source": [
        "d.insert(2,\"l2\",np.empty_like(d[\"cell.count\"]))\n",
        "d.insert(3,\"pd\",np.empty_like(d[\"cell.count\"]))\n",
        "d[\"l2\"] = np.round(np.log2(d[\"cell.count\"]),3)\n",
        "d[\"pd\"] = flatten_matrix([np.round(d[d[\"well\"]==w][\"l2\"] - d[d[\"well\"]==w][\"l2\"].to_list()[0],3) for w in d[\"well\"].unique()])"
      ]
    },
    {
      "cell_type": "code",
      "execution_count": null,
      "id": "e1348e04-bfe8-44f4-9069-bc4a277a6e27",
      "metadata": {
        "colab": {
          "base_uri": "https://localhost:8080/",
          "height": 990
        },
        "id": "e1348e04-bfe8-44f4-9069-bc4a277a6e27",
        "outputId": "2559ce18-e8fd-4ff7-873b-650dbde9215c"
      },
      "outputs": [
        {
          "output_type": "execute_result",
          "data": {
            "text/plain": [
              "   well   time     l2     pd  cell.count            uid       drug1  \\\n",
              "0   A01    0.8  5.000  0.000          32  10ACh-28A_H03  trametinib   \n",
              "1   A01    5.6  4.644 -0.356          25  10ACh-28A_H03  trametinib   \n",
              "2   A01   10.5  4.954 -0.046          31  10ACh-28A_H03  trametinib   \n",
              "3   A01   15.3  5.728  0.728          53  10ACh-28A_H03  trametinib   \n",
              "4   A01   20.0  5.285  0.285          39  10ACh-28A_H03  trametinib   \n",
              "5   A01   24.8  5.700  0.700          52  10ACh-28A_H03  trametinib   \n",
              "6   A01   29.6  5.615  0.615          49  10ACh-28A_H03  trametinib   \n",
              "7   A01   34.4  5.807  0.807          56  10ACh-28A_H03  trametinib   \n",
              "8   A01   39.2  5.781  0.781          55  10ACh-28A_H03  trametinib   \n",
              "9   A01   44.0  5.700  0.700          52  10ACh-28A_H03  trametinib   \n",
              "10  A01   48.8  5.585  0.585          48  10ACh-28A_H03  trametinib   \n",
              "11  A01   53.5  5.807  0.807          56  10ACh-28A_H03  trametinib   \n",
              "12  A01   58.3  5.615  0.615          49  10ACh-28A_H03  trametinib   \n",
              "13  A01   63.1  5.555  0.555          47  10ACh-28A_H03  trametinib   \n",
              "14  A01   67.9  5.392  0.392          42  10ACh-28A_H03  trametinib   \n",
              "15  A01   72.7  5.644  0.644          50  10ACh-28A_H03  trametinib   \n",
              "16  A01   76.1  5.358  0.358          41  10ACh-28A_H03  trametinib   \n",
              "17  A01   81.3  5.585  0.585          48  10ACh-28A_H03  trametinib   \n",
              "18  A01   86.4  5.285  0.285          39  10ACh-28A_H03  trametinib   \n",
              "19  A01   91.5  5.555  0.555          47  10ACh-28A_H03  trametinib   \n",
              "20  A01   96.6  5.524  0.524          46  10ACh-28A_H03  trametinib   \n",
              "21  A01  101.7  5.209  0.209          37  10ACh-28A_H03  trametinib   \n",
              "22  A01  106.8  5.585  0.585          48  10ACh-28A_H03  trametinib   \n",
              "23  A01  111.9  5.285  0.285          39  10ACh-28A_H03  trametinib   \n",
              "24  A01  117.0  5.322  0.322          40  10ACh-28A_H03  trametinib   \n",
              "25  A02    1.0  5.755  0.000          54  10ACh-28B_B23     control   \n",
              "26  A02    5.7  6.044  0.289          66  10ACh-28B_B23     control   \n",
              "27  A02   10.6  6.285  0.530          78  10ACh-28B_B23     control   \n",
              "28  A02   15.4  6.409  0.654          85  10ACh-28B_B23     control   \n",
              "29  A02   20.1  6.755  1.000         108  10ACh-28B_B23     control   \n",
              "\n",
              "    drug1.conc  \n",
              "0     0.000004  \n",
              "1     0.000004  \n",
              "2     0.000004  \n",
              "3     0.000004  \n",
              "4     0.000004  \n",
              "5     0.000004  \n",
              "6     0.000004  \n",
              "7     0.000004  \n",
              "8     0.000004  \n",
              "9     0.000004  \n",
              "10    0.000004  \n",
              "11    0.000004  \n",
              "12    0.000004  \n",
              "13    0.000004  \n",
              "14    0.000004  \n",
              "15    0.000004  \n",
              "16    0.000004  \n",
              "17    0.000004  \n",
              "18    0.000004  \n",
              "19    0.000004  \n",
              "20    0.000004  \n",
              "21    0.000004  \n",
              "22    0.000004  \n",
              "23    0.000004  \n",
              "24    0.000004  \n",
              "25    0.000000  \n",
              "26    0.000000  \n",
              "27    0.000000  \n",
              "28    0.000000  \n",
              "29    0.000000  "
            ],
            "text/html": [
              "\n",
              "  <div id=\"df-43fa2498-c26d-4892-ab6c-b819245433ad\">\n",
              "    <div class=\"colab-df-container\">\n",
              "      <div>\n",
              "<style scoped>\n",
              "    .dataframe tbody tr th:only-of-type {\n",
              "        vertical-align: middle;\n",
              "    }\n",
              "\n",
              "    .dataframe tbody tr th {\n",
              "        vertical-align: top;\n",
              "    }\n",
              "\n",
              "    .dataframe thead th {\n",
              "        text-align: right;\n",
              "    }\n",
              "</style>\n",
              "<table border=\"1\" class=\"dataframe\">\n",
              "  <thead>\n",
              "    <tr style=\"text-align: right;\">\n",
              "      <th></th>\n",
              "      <th>well</th>\n",
              "      <th>time</th>\n",
              "      <th>l2</th>\n",
              "      <th>pd</th>\n",
              "      <th>cell.count</th>\n",
              "      <th>uid</th>\n",
              "      <th>drug1</th>\n",
              "      <th>drug1.conc</th>\n",
              "    </tr>\n",
              "  </thead>\n",
              "  <tbody>\n",
              "    <tr>\n",
              "      <th>0</th>\n",
              "      <td>A01</td>\n",
              "      <td>0.8</td>\n",
              "      <td>5.000</td>\n",
              "      <td>0.000</td>\n",
              "      <td>32</td>\n",
              "      <td>10ACh-28A_H03</td>\n",
              "      <td>trametinib</td>\n",
              "      <td>0.000004</td>\n",
              "    </tr>\n",
              "    <tr>\n",
              "      <th>1</th>\n",
              "      <td>A01</td>\n",
              "      <td>5.6</td>\n",
              "      <td>4.644</td>\n",
              "      <td>-0.356</td>\n",
              "      <td>25</td>\n",
              "      <td>10ACh-28A_H03</td>\n",
              "      <td>trametinib</td>\n",
              "      <td>0.000004</td>\n",
              "    </tr>\n",
              "    <tr>\n",
              "      <th>2</th>\n",
              "      <td>A01</td>\n",
              "      <td>10.5</td>\n",
              "      <td>4.954</td>\n",
              "      <td>-0.046</td>\n",
              "      <td>31</td>\n",
              "      <td>10ACh-28A_H03</td>\n",
              "      <td>trametinib</td>\n",
              "      <td>0.000004</td>\n",
              "    </tr>\n",
              "    <tr>\n",
              "      <th>3</th>\n",
              "      <td>A01</td>\n",
              "      <td>15.3</td>\n",
              "      <td>5.728</td>\n",
              "      <td>0.728</td>\n",
              "      <td>53</td>\n",
              "      <td>10ACh-28A_H03</td>\n",
              "      <td>trametinib</td>\n",
              "      <td>0.000004</td>\n",
              "    </tr>\n",
              "    <tr>\n",
              "      <th>4</th>\n",
              "      <td>A01</td>\n",
              "      <td>20.0</td>\n",
              "      <td>5.285</td>\n",
              "      <td>0.285</td>\n",
              "      <td>39</td>\n",
              "      <td>10ACh-28A_H03</td>\n",
              "      <td>trametinib</td>\n",
              "      <td>0.000004</td>\n",
              "    </tr>\n",
              "    <tr>\n",
              "      <th>5</th>\n",
              "      <td>A01</td>\n",
              "      <td>24.8</td>\n",
              "      <td>5.700</td>\n",
              "      <td>0.700</td>\n",
              "      <td>52</td>\n",
              "      <td>10ACh-28A_H03</td>\n",
              "      <td>trametinib</td>\n",
              "      <td>0.000004</td>\n",
              "    </tr>\n",
              "    <tr>\n",
              "      <th>6</th>\n",
              "      <td>A01</td>\n",
              "      <td>29.6</td>\n",
              "      <td>5.615</td>\n",
              "      <td>0.615</td>\n",
              "      <td>49</td>\n",
              "      <td>10ACh-28A_H03</td>\n",
              "      <td>trametinib</td>\n",
              "      <td>0.000004</td>\n",
              "    </tr>\n",
              "    <tr>\n",
              "      <th>7</th>\n",
              "      <td>A01</td>\n",
              "      <td>34.4</td>\n",
              "      <td>5.807</td>\n",
              "      <td>0.807</td>\n",
              "      <td>56</td>\n",
              "      <td>10ACh-28A_H03</td>\n",
              "      <td>trametinib</td>\n",
              "      <td>0.000004</td>\n",
              "    </tr>\n",
              "    <tr>\n",
              "      <th>8</th>\n",
              "      <td>A01</td>\n",
              "      <td>39.2</td>\n",
              "      <td>5.781</td>\n",
              "      <td>0.781</td>\n",
              "      <td>55</td>\n",
              "      <td>10ACh-28A_H03</td>\n",
              "      <td>trametinib</td>\n",
              "      <td>0.000004</td>\n",
              "    </tr>\n",
              "    <tr>\n",
              "      <th>9</th>\n",
              "      <td>A01</td>\n",
              "      <td>44.0</td>\n",
              "      <td>5.700</td>\n",
              "      <td>0.700</td>\n",
              "      <td>52</td>\n",
              "      <td>10ACh-28A_H03</td>\n",
              "      <td>trametinib</td>\n",
              "      <td>0.000004</td>\n",
              "    </tr>\n",
              "    <tr>\n",
              "      <th>10</th>\n",
              "      <td>A01</td>\n",
              "      <td>48.8</td>\n",
              "      <td>5.585</td>\n",
              "      <td>0.585</td>\n",
              "      <td>48</td>\n",
              "      <td>10ACh-28A_H03</td>\n",
              "      <td>trametinib</td>\n",
              "      <td>0.000004</td>\n",
              "    </tr>\n",
              "    <tr>\n",
              "      <th>11</th>\n",
              "      <td>A01</td>\n",
              "      <td>53.5</td>\n",
              "      <td>5.807</td>\n",
              "      <td>0.807</td>\n",
              "      <td>56</td>\n",
              "      <td>10ACh-28A_H03</td>\n",
              "      <td>trametinib</td>\n",
              "      <td>0.000004</td>\n",
              "    </tr>\n",
              "    <tr>\n",
              "      <th>12</th>\n",
              "      <td>A01</td>\n",
              "      <td>58.3</td>\n",
              "      <td>5.615</td>\n",
              "      <td>0.615</td>\n",
              "      <td>49</td>\n",
              "      <td>10ACh-28A_H03</td>\n",
              "      <td>trametinib</td>\n",
              "      <td>0.000004</td>\n",
              "    </tr>\n",
              "    <tr>\n",
              "      <th>13</th>\n",
              "      <td>A01</td>\n",
              "      <td>63.1</td>\n",
              "      <td>5.555</td>\n",
              "      <td>0.555</td>\n",
              "      <td>47</td>\n",
              "      <td>10ACh-28A_H03</td>\n",
              "      <td>trametinib</td>\n",
              "      <td>0.000004</td>\n",
              "    </tr>\n",
              "    <tr>\n",
              "      <th>14</th>\n",
              "      <td>A01</td>\n",
              "      <td>67.9</td>\n",
              "      <td>5.392</td>\n",
              "      <td>0.392</td>\n",
              "      <td>42</td>\n",
              "      <td>10ACh-28A_H03</td>\n",
              "      <td>trametinib</td>\n",
              "      <td>0.000004</td>\n",
              "    </tr>\n",
              "    <tr>\n",
              "      <th>15</th>\n",
              "      <td>A01</td>\n",
              "      <td>72.7</td>\n",
              "      <td>5.644</td>\n",
              "      <td>0.644</td>\n",
              "      <td>50</td>\n",
              "      <td>10ACh-28A_H03</td>\n",
              "      <td>trametinib</td>\n",
              "      <td>0.000004</td>\n",
              "    </tr>\n",
              "    <tr>\n",
              "      <th>16</th>\n",
              "      <td>A01</td>\n",
              "      <td>76.1</td>\n",
              "      <td>5.358</td>\n",
              "      <td>0.358</td>\n",
              "      <td>41</td>\n",
              "      <td>10ACh-28A_H03</td>\n",
              "      <td>trametinib</td>\n",
              "      <td>0.000004</td>\n",
              "    </tr>\n",
              "    <tr>\n",
              "      <th>17</th>\n",
              "      <td>A01</td>\n",
              "      <td>81.3</td>\n",
              "      <td>5.585</td>\n",
              "      <td>0.585</td>\n",
              "      <td>48</td>\n",
              "      <td>10ACh-28A_H03</td>\n",
              "      <td>trametinib</td>\n",
              "      <td>0.000004</td>\n",
              "    </tr>\n",
              "    <tr>\n",
              "      <th>18</th>\n",
              "      <td>A01</td>\n",
              "      <td>86.4</td>\n",
              "      <td>5.285</td>\n",
              "      <td>0.285</td>\n",
              "      <td>39</td>\n",
              "      <td>10ACh-28A_H03</td>\n",
              "      <td>trametinib</td>\n",
              "      <td>0.000004</td>\n",
              "    </tr>\n",
              "    <tr>\n",
              "      <th>19</th>\n",
              "      <td>A01</td>\n",
              "      <td>91.5</td>\n",
              "      <td>5.555</td>\n",
              "      <td>0.555</td>\n",
              "      <td>47</td>\n",
              "      <td>10ACh-28A_H03</td>\n",
              "      <td>trametinib</td>\n",
              "      <td>0.000004</td>\n",
              "    </tr>\n",
              "    <tr>\n",
              "      <th>20</th>\n",
              "      <td>A01</td>\n",
              "      <td>96.6</td>\n",
              "      <td>5.524</td>\n",
              "      <td>0.524</td>\n",
              "      <td>46</td>\n",
              "      <td>10ACh-28A_H03</td>\n",
              "      <td>trametinib</td>\n",
              "      <td>0.000004</td>\n",
              "    </tr>\n",
              "    <tr>\n",
              "      <th>21</th>\n",
              "      <td>A01</td>\n",
              "      <td>101.7</td>\n",
              "      <td>5.209</td>\n",
              "      <td>0.209</td>\n",
              "      <td>37</td>\n",
              "      <td>10ACh-28A_H03</td>\n",
              "      <td>trametinib</td>\n",
              "      <td>0.000004</td>\n",
              "    </tr>\n",
              "    <tr>\n",
              "      <th>22</th>\n",
              "      <td>A01</td>\n",
              "      <td>106.8</td>\n",
              "      <td>5.585</td>\n",
              "      <td>0.585</td>\n",
              "      <td>48</td>\n",
              "      <td>10ACh-28A_H03</td>\n",
              "      <td>trametinib</td>\n",
              "      <td>0.000004</td>\n",
              "    </tr>\n",
              "    <tr>\n",
              "      <th>23</th>\n",
              "      <td>A01</td>\n",
              "      <td>111.9</td>\n",
              "      <td>5.285</td>\n",
              "      <td>0.285</td>\n",
              "      <td>39</td>\n",
              "      <td>10ACh-28A_H03</td>\n",
              "      <td>trametinib</td>\n",
              "      <td>0.000004</td>\n",
              "    </tr>\n",
              "    <tr>\n",
              "      <th>24</th>\n",
              "      <td>A01</td>\n",
              "      <td>117.0</td>\n",
              "      <td>5.322</td>\n",
              "      <td>0.322</td>\n",
              "      <td>40</td>\n",
              "      <td>10ACh-28A_H03</td>\n",
              "      <td>trametinib</td>\n",
              "      <td>0.000004</td>\n",
              "    </tr>\n",
              "    <tr>\n",
              "      <th>25</th>\n",
              "      <td>A02</td>\n",
              "      <td>1.0</td>\n",
              "      <td>5.755</td>\n",
              "      <td>0.000</td>\n",
              "      <td>54</td>\n",
              "      <td>10ACh-28B_B23</td>\n",
              "      <td>control</td>\n",
              "      <td>0.000000</td>\n",
              "    </tr>\n",
              "    <tr>\n",
              "      <th>26</th>\n",
              "      <td>A02</td>\n",
              "      <td>5.7</td>\n",
              "      <td>6.044</td>\n",
              "      <td>0.289</td>\n",
              "      <td>66</td>\n",
              "      <td>10ACh-28B_B23</td>\n",
              "      <td>control</td>\n",
              "      <td>0.000000</td>\n",
              "    </tr>\n",
              "    <tr>\n",
              "      <th>27</th>\n",
              "      <td>A02</td>\n",
              "      <td>10.6</td>\n",
              "      <td>6.285</td>\n",
              "      <td>0.530</td>\n",
              "      <td>78</td>\n",
              "      <td>10ACh-28B_B23</td>\n",
              "      <td>control</td>\n",
              "      <td>0.000000</td>\n",
              "    </tr>\n",
              "    <tr>\n",
              "      <th>28</th>\n",
              "      <td>A02</td>\n",
              "      <td>15.4</td>\n",
              "      <td>6.409</td>\n",
              "      <td>0.654</td>\n",
              "      <td>85</td>\n",
              "      <td>10ACh-28B_B23</td>\n",
              "      <td>control</td>\n",
              "      <td>0.000000</td>\n",
              "    </tr>\n",
              "    <tr>\n",
              "      <th>29</th>\n",
              "      <td>A02</td>\n",
              "      <td>20.1</td>\n",
              "      <td>6.755</td>\n",
              "      <td>1.000</td>\n",
              "      <td>108</td>\n",
              "      <td>10ACh-28B_B23</td>\n",
              "      <td>control</td>\n",
              "      <td>0.000000</td>\n",
              "    </tr>\n",
              "  </tbody>\n",
              "</table>\n",
              "</div>\n",
              "      <button class=\"colab-df-convert\" onclick=\"convertToInteractive('df-43fa2498-c26d-4892-ab6c-b819245433ad')\"\n",
              "              title=\"Convert this dataframe to an interactive table.\"\n",
              "              style=\"display:none;\">\n",
              "        \n",
              "  <svg xmlns=\"http://www.w3.org/2000/svg\" height=\"24px\"viewBox=\"0 0 24 24\"\n",
              "       width=\"24px\">\n",
              "    <path d=\"M0 0h24v24H0V0z\" fill=\"none\"/>\n",
              "    <path d=\"M18.56 5.44l.94 2.06.94-2.06 2.06-.94-2.06-.94-.94-2.06-.94 2.06-2.06.94zm-11 1L8.5 8.5l.94-2.06 2.06-.94-2.06-.94L8.5 2.5l-.94 2.06-2.06.94zm10 10l.94 2.06.94-2.06 2.06-.94-2.06-.94-.94-2.06-.94 2.06-2.06.94z\"/><path d=\"M17.41 7.96l-1.37-1.37c-.4-.4-.92-.59-1.43-.59-.52 0-1.04.2-1.43.59L10.3 9.45l-7.72 7.72c-.78.78-.78 2.05 0 2.83L4 21.41c.39.39.9.59 1.41.59.51 0 1.02-.2 1.41-.59l7.78-7.78 2.81-2.81c.8-.78.8-2.07 0-2.86zM5.41 20L4 18.59l7.72-7.72 1.47 1.35L5.41 20z\"/>\n",
              "  </svg>\n",
              "      </button>\n",
              "      \n",
              "  <style>\n",
              "    .colab-df-container {\n",
              "      display:flex;\n",
              "      flex-wrap:wrap;\n",
              "      gap: 12px;\n",
              "    }\n",
              "\n",
              "    .colab-df-convert {\n",
              "      background-color: #E8F0FE;\n",
              "      border: none;\n",
              "      border-radius: 50%;\n",
              "      cursor: pointer;\n",
              "      display: none;\n",
              "      fill: #1967D2;\n",
              "      height: 32px;\n",
              "      padding: 0 0 0 0;\n",
              "      width: 32px;\n",
              "    }\n",
              "\n",
              "    .colab-df-convert:hover {\n",
              "      background-color: #E2EBFA;\n",
              "      box-shadow: 0px 1px 2px rgba(60, 64, 67, 0.3), 0px 1px 3px 1px rgba(60, 64, 67, 0.15);\n",
              "      fill: #174EA6;\n",
              "    }\n",
              "\n",
              "    [theme=dark] .colab-df-convert {\n",
              "      background-color: #3B4455;\n",
              "      fill: #D2E3FC;\n",
              "    }\n",
              "\n",
              "    [theme=dark] .colab-df-convert:hover {\n",
              "      background-color: #434B5C;\n",
              "      box-shadow: 0px 1px 3px 1px rgba(0, 0, 0, 0.15);\n",
              "      filter: drop-shadow(0px 1px 2px rgba(0, 0, 0, 0.3));\n",
              "      fill: #FFFFFF;\n",
              "    }\n",
              "  </style>\n",
              "\n",
              "      <script>\n",
              "        const buttonEl =\n",
              "          document.querySelector('#df-43fa2498-c26d-4892-ab6c-b819245433ad button.colab-df-convert');\n",
              "        buttonEl.style.display =\n",
              "          google.colab.kernel.accessAllowed ? 'block' : 'none';\n",
              "\n",
              "        async function convertToInteractive(key) {\n",
              "          const element = document.querySelector('#df-43fa2498-c26d-4892-ab6c-b819245433ad');\n",
              "          const dataTable =\n",
              "            await google.colab.kernel.invokeFunction('convertToInteractive',\n",
              "                                                     [key], {});\n",
              "          if (!dataTable) return;\n",
              "\n",
              "          const docLinkHtml = 'Like what you see? Visit the ' +\n",
              "            '<a target=\"_blank\" href=https://colab.research.google.com/notebooks/data_table.ipynb>data table notebook</a>'\n",
              "            + ' to learn more about interactive tables.';\n",
              "          element.innerHTML = '';\n",
              "          dataTable['output_type'] = 'display_data';\n",
              "          await google.colab.output.renderOutput(dataTable, element);\n",
              "          const docLink = document.createElement('div');\n",
              "          docLink.innerHTML = docLinkHtml;\n",
              "          element.appendChild(docLink);\n",
              "        }\n",
              "      </script>\n",
              "    </div>\n",
              "  </div>\n",
              "  "
            ]
          },
          "metadata": {},
          "execution_count": 7
        }
      ],
      "source": [
        "d.head(30)"
      ]
    },
    {
      "cell_type": "markdown",
      "id": "56245c23-c8a9-4d8e-ace1-a372b934377f",
      "metadata": {
        "id": "56245c23-c8a9-4d8e-ace1-a372b934377f"
      },
      "source": []
    },
    {
      "cell_type": "markdown",
      "id": "d1222d88-bd97-494f-83c7-658156b50806",
      "metadata": {
        "id": "d1222d88-bd97-494f-83c7-658156b50806"
      },
      "source": [
        "## Assignment task #1\n",
        "Copy and execute a chunk of code from the line assigning values to `d[\"pd\"]`. Describe what you did and the output in the following markup block."
      ]
    },
    {
      "cell_type": "code",
      "execution_count": null,
      "id": "5c2bb7c4-bb47-4c3b-99b2-70a002d3a163",
      "metadata": {
        "id": "5c2bb7c4-bb47-4c3b-99b2-70a002d3a163",
        "colab": {
          "base_uri": "https://localhost:8080/",
          "height": 833
        },
        "outputId": "1fa1b281-5806-40fa-f48c-c81663e4b3c0"
      },
      "outputs": [
        {
          "output_type": "execute_result",
          "data": {
            "text/plain": [
              "   well   time   l2   pd  cell.count            uid       drug1  drug1.conc\n",
              "0   A01    1.0  5.0  0.0          32  10ACh-28A_H03  trametinib         0.0\n",
              "1   A01    6.0  5.0 -0.0          25  10ACh-28A_H03  trametinib         0.0\n",
              "2   A01   10.0  5.0 -0.0          31  10ACh-28A_H03  trametinib         0.0\n",
              "3   A01   15.0  6.0  1.0          53  10ACh-28A_H03  trametinib         0.0\n",
              "4   A01   20.0  5.0  0.0          39  10ACh-28A_H03  trametinib         0.0\n",
              "5   A01   25.0  6.0  1.0          52  10ACh-28A_H03  trametinib         0.0\n",
              "6   A01   30.0  6.0  1.0          49  10ACh-28A_H03  trametinib         0.0\n",
              "7   A01   34.0  6.0  1.0          56  10ACh-28A_H03  trametinib         0.0\n",
              "8   A01   39.0  6.0  1.0          55  10ACh-28A_H03  trametinib         0.0\n",
              "9   A01   44.0  6.0  1.0          52  10ACh-28A_H03  trametinib         0.0\n",
              "10  A01   49.0  6.0  1.0          48  10ACh-28A_H03  trametinib         0.0\n",
              "11  A01   54.0  6.0  1.0          56  10ACh-28A_H03  trametinib         0.0\n",
              "12  A01   58.0  6.0  1.0          49  10ACh-28A_H03  trametinib         0.0\n",
              "13  A01   63.0  6.0  1.0          47  10ACh-28A_H03  trametinib         0.0\n",
              "14  A01   68.0  5.0  0.0          42  10ACh-28A_H03  trametinib         0.0\n",
              "15  A01   73.0  6.0  1.0          50  10ACh-28A_H03  trametinib         0.0\n",
              "16  A01   76.0  5.0  0.0          41  10ACh-28A_H03  trametinib         0.0\n",
              "17  A01   81.0  6.0  1.0          48  10ACh-28A_H03  trametinib         0.0\n",
              "18  A01   86.0  5.0  0.0          39  10ACh-28A_H03  trametinib         0.0\n",
              "19  A01   92.0  6.0  1.0          47  10ACh-28A_H03  trametinib         0.0\n",
              "20  A01   97.0  6.0  1.0          46  10ACh-28A_H03  trametinib         0.0\n",
              "21  A01  102.0  5.0  0.0          37  10ACh-28A_H03  trametinib         0.0\n",
              "22  A01  107.0  6.0  1.0          48  10ACh-28A_H03  trametinib         0.0\n",
              "23  A01  112.0  5.0  0.0          39  10ACh-28A_H03  trametinib         0.0\n",
              "24  A01  117.0  5.0  0.0          40  10ACh-28A_H03  trametinib         0.0"
            ],
            "text/html": [
              "\n",
              "  <div id=\"df-bf44e149-14f2-4542-8683-bff952c61561\">\n",
              "    <div class=\"colab-df-container\">\n",
              "      <div>\n",
              "<style scoped>\n",
              "    .dataframe tbody tr th:only-of-type {\n",
              "        vertical-align: middle;\n",
              "    }\n",
              "\n",
              "    .dataframe tbody tr th {\n",
              "        vertical-align: top;\n",
              "    }\n",
              "\n",
              "    .dataframe thead th {\n",
              "        text-align: right;\n",
              "    }\n",
              "</style>\n",
              "<table border=\"1\" class=\"dataframe\">\n",
              "  <thead>\n",
              "    <tr style=\"text-align: right;\">\n",
              "      <th></th>\n",
              "      <th>well</th>\n",
              "      <th>time</th>\n",
              "      <th>l2</th>\n",
              "      <th>pd</th>\n",
              "      <th>cell.count</th>\n",
              "      <th>uid</th>\n",
              "      <th>drug1</th>\n",
              "      <th>drug1.conc</th>\n",
              "    </tr>\n",
              "  </thead>\n",
              "  <tbody>\n",
              "    <tr>\n",
              "      <th>0</th>\n",
              "      <td>A01</td>\n",
              "      <td>1.0</td>\n",
              "      <td>5.0</td>\n",
              "      <td>0.0</td>\n",
              "      <td>32</td>\n",
              "      <td>10ACh-28A_H03</td>\n",
              "      <td>trametinib</td>\n",
              "      <td>0.0</td>\n",
              "    </tr>\n",
              "    <tr>\n",
              "      <th>1</th>\n",
              "      <td>A01</td>\n",
              "      <td>6.0</td>\n",
              "      <td>5.0</td>\n",
              "      <td>-0.0</td>\n",
              "      <td>25</td>\n",
              "      <td>10ACh-28A_H03</td>\n",
              "      <td>trametinib</td>\n",
              "      <td>0.0</td>\n",
              "    </tr>\n",
              "    <tr>\n",
              "      <th>2</th>\n",
              "      <td>A01</td>\n",
              "      <td>10.0</td>\n",
              "      <td>5.0</td>\n",
              "      <td>-0.0</td>\n",
              "      <td>31</td>\n",
              "      <td>10ACh-28A_H03</td>\n",
              "      <td>trametinib</td>\n",
              "      <td>0.0</td>\n",
              "    </tr>\n",
              "    <tr>\n",
              "      <th>3</th>\n",
              "      <td>A01</td>\n",
              "      <td>15.0</td>\n",
              "      <td>6.0</td>\n",
              "      <td>1.0</td>\n",
              "      <td>53</td>\n",
              "      <td>10ACh-28A_H03</td>\n",
              "      <td>trametinib</td>\n",
              "      <td>0.0</td>\n",
              "    </tr>\n",
              "    <tr>\n",
              "      <th>4</th>\n",
              "      <td>A01</td>\n",
              "      <td>20.0</td>\n",
              "      <td>5.0</td>\n",
              "      <td>0.0</td>\n",
              "      <td>39</td>\n",
              "      <td>10ACh-28A_H03</td>\n",
              "      <td>trametinib</td>\n",
              "      <td>0.0</td>\n",
              "    </tr>\n",
              "    <tr>\n",
              "      <th>5</th>\n",
              "      <td>A01</td>\n",
              "      <td>25.0</td>\n",
              "      <td>6.0</td>\n",
              "      <td>1.0</td>\n",
              "      <td>52</td>\n",
              "      <td>10ACh-28A_H03</td>\n",
              "      <td>trametinib</td>\n",
              "      <td>0.0</td>\n",
              "    </tr>\n",
              "    <tr>\n",
              "      <th>6</th>\n",
              "      <td>A01</td>\n",
              "      <td>30.0</td>\n",
              "      <td>6.0</td>\n",
              "      <td>1.0</td>\n",
              "      <td>49</td>\n",
              "      <td>10ACh-28A_H03</td>\n",
              "      <td>trametinib</td>\n",
              "      <td>0.0</td>\n",
              "    </tr>\n",
              "    <tr>\n",
              "      <th>7</th>\n",
              "      <td>A01</td>\n",
              "      <td>34.0</td>\n",
              "      <td>6.0</td>\n",
              "      <td>1.0</td>\n",
              "      <td>56</td>\n",
              "      <td>10ACh-28A_H03</td>\n",
              "      <td>trametinib</td>\n",
              "      <td>0.0</td>\n",
              "    </tr>\n",
              "    <tr>\n",
              "      <th>8</th>\n",
              "      <td>A01</td>\n",
              "      <td>39.0</td>\n",
              "      <td>6.0</td>\n",
              "      <td>1.0</td>\n",
              "      <td>55</td>\n",
              "      <td>10ACh-28A_H03</td>\n",
              "      <td>trametinib</td>\n",
              "      <td>0.0</td>\n",
              "    </tr>\n",
              "    <tr>\n",
              "      <th>9</th>\n",
              "      <td>A01</td>\n",
              "      <td>44.0</td>\n",
              "      <td>6.0</td>\n",
              "      <td>1.0</td>\n",
              "      <td>52</td>\n",
              "      <td>10ACh-28A_H03</td>\n",
              "      <td>trametinib</td>\n",
              "      <td>0.0</td>\n",
              "    </tr>\n",
              "    <tr>\n",
              "      <th>10</th>\n",
              "      <td>A01</td>\n",
              "      <td>49.0</td>\n",
              "      <td>6.0</td>\n",
              "      <td>1.0</td>\n",
              "      <td>48</td>\n",
              "      <td>10ACh-28A_H03</td>\n",
              "      <td>trametinib</td>\n",
              "      <td>0.0</td>\n",
              "    </tr>\n",
              "    <tr>\n",
              "      <th>11</th>\n",
              "      <td>A01</td>\n",
              "      <td>54.0</td>\n",
              "      <td>6.0</td>\n",
              "      <td>1.0</td>\n",
              "      <td>56</td>\n",
              "      <td>10ACh-28A_H03</td>\n",
              "      <td>trametinib</td>\n",
              "      <td>0.0</td>\n",
              "    </tr>\n",
              "    <tr>\n",
              "      <th>12</th>\n",
              "      <td>A01</td>\n",
              "      <td>58.0</td>\n",
              "      <td>6.0</td>\n",
              "      <td>1.0</td>\n",
              "      <td>49</td>\n",
              "      <td>10ACh-28A_H03</td>\n",
              "      <td>trametinib</td>\n",
              "      <td>0.0</td>\n",
              "    </tr>\n",
              "    <tr>\n",
              "      <th>13</th>\n",
              "      <td>A01</td>\n",
              "      <td>63.0</td>\n",
              "      <td>6.0</td>\n",
              "      <td>1.0</td>\n",
              "      <td>47</td>\n",
              "      <td>10ACh-28A_H03</td>\n",
              "      <td>trametinib</td>\n",
              "      <td>0.0</td>\n",
              "    </tr>\n",
              "    <tr>\n",
              "      <th>14</th>\n",
              "      <td>A01</td>\n",
              "      <td>68.0</td>\n",
              "      <td>5.0</td>\n",
              "      <td>0.0</td>\n",
              "      <td>42</td>\n",
              "      <td>10ACh-28A_H03</td>\n",
              "      <td>trametinib</td>\n",
              "      <td>0.0</td>\n",
              "    </tr>\n",
              "    <tr>\n",
              "      <th>15</th>\n",
              "      <td>A01</td>\n",
              "      <td>73.0</td>\n",
              "      <td>6.0</td>\n",
              "      <td>1.0</td>\n",
              "      <td>50</td>\n",
              "      <td>10ACh-28A_H03</td>\n",
              "      <td>trametinib</td>\n",
              "      <td>0.0</td>\n",
              "    </tr>\n",
              "    <tr>\n",
              "      <th>16</th>\n",
              "      <td>A01</td>\n",
              "      <td>76.0</td>\n",
              "      <td>5.0</td>\n",
              "      <td>0.0</td>\n",
              "      <td>41</td>\n",
              "      <td>10ACh-28A_H03</td>\n",
              "      <td>trametinib</td>\n",
              "      <td>0.0</td>\n",
              "    </tr>\n",
              "    <tr>\n",
              "      <th>17</th>\n",
              "      <td>A01</td>\n",
              "      <td>81.0</td>\n",
              "      <td>6.0</td>\n",
              "      <td>1.0</td>\n",
              "      <td>48</td>\n",
              "      <td>10ACh-28A_H03</td>\n",
              "      <td>trametinib</td>\n",
              "      <td>0.0</td>\n",
              "    </tr>\n",
              "    <tr>\n",
              "      <th>18</th>\n",
              "      <td>A01</td>\n",
              "      <td>86.0</td>\n",
              "      <td>5.0</td>\n",
              "      <td>0.0</td>\n",
              "      <td>39</td>\n",
              "      <td>10ACh-28A_H03</td>\n",
              "      <td>trametinib</td>\n",
              "      <td>0.0</td>\n",
              "    </tr>\n",
              "    <tr>\n",
              "      <th>19</th>\n",
              "      <td>A01</td>\n",
              "      <td>92.0</td>\n",
              "      <td>6.0</td>\n",
              "      <td>1.0</td>\n",
              "      <td>47</td>\n",
              "      <td>10ACh-28A_H03</td>\n",
              "      <td>trametinib</td>\n",
              "      <td>0.0</td>\n",
              "    </tr>\n",
              "    <tr>\n",
              "      <th>20</th>\n",
              "      <td>A01</td>\n",
              "      <td>97.0</td>\n",
              "      <td>6.0</td>\n",
              "      <td>1.0</td>\n",
              "      <td>46</td>\n",
              "      <td>10ACh-28A_H03</td>\n",
              "      <td>trametinib</td>\n",
              "      <td>0.0</td>\n",
              "    </tr>\n",
              "    <tr>\n",
              "      <th>21</th>\n",
              "      <td>A01</td>\n",
              "      <td>102.0</td>\n",
              "      <td>5.0</td>\n",
              "      <td>0.0</td>\n",
              "      <td>37</td>\n",
              "      <td>10ACh-28A_H03</td>\n",
              "      <td>trametinib</td>\n",
              "      <td>0.0</td>\n",
              "    </tr>\n",
              "    <tr>\n",
              "      <th>22</th>\n",
              "      <td>A01</td>\n",
              "      <td>107.0</td>\n",
              "      <td>6.0</td>\n",
              "      <td>1.0</td>\n",
              "      <td>48</td>\n",
              "      <td>10ACh-28A_H03</td>\n",
              "      <td>trametinib</td>\n",
              "      <td>0.0</td>\n",
              "    </tr>\n",
              "    <tr>\n",
              "      <th>23</th>\n",
              "      <td>A01</td>\n",
              "      <td>112.0</td>\n",
              "      <td>5.0</td>\n",
              "      <td>0.0</td>\n",
              "      <td>39</td>\n",
              "      <td>10ACh-28A_H03</td>\n",
              "      <td>trametinib</td>\n",
              "      <td>0.0</td>\n",
              "    </tr>\n",
              "    <tr>\n",
              "      <th>24</th>\n",
              "      <td>A01</td>\n",
              "      <td>117.0</td>\n",
              "      <td>5.0</td>\n",
              "      <td>0.0</td>\n",
              "      <td>40</td>\n",
              "      <td>10ACh-28A_H03</td>\n",
              "      <td>trametinib</td>\n",
              "      <td>0.0</td>\n",
              "    </tr>\n",
              "  </tbody>\n",
              "</table>\n",
              "</div>\n",
              "      <button class=\"colab-df-convert\" onclick=\"convertToInteractive('df-bf44e149-14f2-4542-8683-bff952c61561')\"\n",
              "              title=\"Convert this dataframe to an interactive table.\"\n",
              "              style=\"display:none;\">\n",
              "        \n",
              "  <svg xmlns=\"http://www.w3.org/2000/svg\" height=\"24px\"viewBox=\"0 0 24 24\"\n",
              "       width=\"24px\">\n",
              "    <path d=\"M0 0h24v24H0V0z\" fill=\"none\"/>\n",
              "    <path d=\"M18.56 5.44l.94 2.06.94-2.06 2.06-.94-2.06-.94-.94-2.06-.94 2.06-2.06.94zm-11 1L8.5 8.5l.94-2.06 2.06-.94-2.06-.94L8.5 2.5l-.94 2.06-2.06.94zm10 10l.94 2.06.94-2.06 2.06-.94-2.06-.94-.94-2.06-.94 2.06-2.06.94z\"/><path d=\"M17.41 7.96l-1.37-1.37c-.4-.4-.92-.59-1.43-.59-.52 0-1.04.2-1.43.59L10.3 9.45l-7.72 7.72c-.78.78-.78 2.05 0 2.83L4 21.41c.39.39.9.59 1.41.59.51 0 1.02-.2 1.41-.59l7.78-7.78 2.81-2.81c.8-.78.8-2.07 0-2.86zM5.41 20L4 18.59l7.72-7.72 1.47 1.35L5.41 20z\"/>\n",
              "  </svg>\n",
              "      </button>\n",
              "      \n",
              "  <style>\n",
              "    .colab-df-container {\n",
              "      display:flex;\n",
              "      flex-wrap:wrap;\n",
              "      gap: 12px;\n",
              "    }\n",
              "\n",
              "    .colab-df-convert {\n",
              "      background-color: #E8F0FE;\n",
              "      border: none;\n",
              "      border-radius: 50%;\n",
              "      cursor: pointer;\n",
              "      display: none;\n",
              "      fill: #1967D2;\n",
              "      height: 32px;\n",
              "      padding: 0 0 0 0;\n",
              "      width: 32px;\n",
              "    }\n",
              "\n",
              "    .colab-df-convert:hover {\n",
              "      background-color: #E2EBFA;\n",
              "      box-shadow: 0px 1px 2px rgba(60, 64, 67, 0.3), 0px 1px 3px 1px rgba(60, 64, 67, 0.15);\n",
              "      fill: #174EA6;\n",
              "    }\n",
              "\n",
              "    [theme=dark] .colab-df-convert {\n",
              "      background-color: #3B4455;\n",
              "      fill: #D2E3FC;\n",
              "    }\n",
              "\n",
              "    [theme=dark] .colab-df-convert:hover {\n",
              "      background-color: #434B5C;\n",
              "      box-shadow: 0px 1px 3px 1px rgba(0, 0, 0, 0.15);\n",
              "      filter: drop-shadow(0px 1px 2px rgba(0, 0, 0, 0.3));\n",
              "      fill: #FFFFFF;\n",
              "    }\n",
              "  </style>\n",
              "\n",
              "      <script>\n",
              "        const buttonEl =\n",
              "          document.querySelector('#df-bf44e149-14f2-4542-8683-bff952c61561 button.colab-df-convert');\n",
              "        buttonEl.style.display =\n",
              "          google.colab.kernel.accessAllowed ? 'block' : 'none';\n",
              "\n",
              "        async function convertToInteractive(key) {\n",
              "          const element = document.querySelector('#df-bf44e149-14f2-4542-8683-bff952c61561');\n",
              "          const dataTable =\n",
              "            await google.colab.kernel.invokeFunction('convertToInteractive',\n",
              "                                                     [key], {});\n",
              "          if (!dataTable) return;\n",
              "\n",
              "          const docLinkHtml = 'Like what you see? Visit the ' +\n",
              "            '<a target=\"_blank\" href=https://colab.research.google.com/notebooks/data_table.ipynb>data table notebook</a>'\n",
              "            + ' to learn more about interactive tables.';\n",
              "          element.innerHTML = '';\n",
              "          dataTable['output_type'] = 'display_data';\n",
              "          await google.colab.output.renderOutput(dataTable, element);\n",
              "          const docLink = document.createElement('div');\n",
              "          docLink.innerHTML = docLinkHtml;\n",
              "          element.appendChild(docLink);\n",
              "        }\n",
              "      </script>\n",
              "    </div>\n",
              "  </div>\n",
              "  "
            ]
          },
          "metadata": {},
          "execution_count": 10
        }
      ],
      "source": [
        "# Add your code here\n",
        "np.round(d[d[\"well\"]==\"A01\"])\n",
        "#this was chosen and one of the wells was changed from 'w' to A01 so that it would run properly. specifically, the d['well'] is equal to 0: (==) means\n",
        "#code is taking the values from column 12- the log2 values/data set\n",
        "#np.round function - rounding the numeric values to integers since they were float numbers before"
      ]
    },
    {
      "cell_type": "markdown",
      "id": "ae735ec1-1f4c-45ff-9290-56c9def398ed",
      "metadata": {
        "id": "ae735ec1-1f4c-45ff-9290-56c9def398ed"
      },
      "source": [
        "* *Put your description of the code in the previous block here.*\n"
      ]
    },
    {
      "cell_type": "markdown",
      "id": "5b56a147-be3b-4a8d-b833-37357a76d1c5",
      "metadata": {
        "id": "5b56a147-be3b-4a8d-b833-37357a76d1c5"
      },
      "source": [
        "#### Plot data in different scales\n",
        "We will look at a single well (`A02`) of data in linear scale (direct cell counts), log2 scale and as population doublings (log2 scale normalized to 1 cell at the first time point)."
      ]
    },
    {
      "cell_type": "code",
      "execution_count": null,
      "id": "7adfe491-1870-4265-97e7-24551c6c1569",
      "metadata": {
        "colab": {
          "base_uri": "https://localhost:8080/",
          "height": 298
        },
        "id": "7adfe491-1870-4265-97e7-24551c6c1569",
        "outputId": "ff362cb4-f8d5-4a79-e7c0-cecb39b42565"
      },
      "outputs": [
        {
          "output_type": "display_data",
          "data": {
            "text/plain": [
              "<Figure size 864x288 with 3 Axes>"
            ],
            "image/png": "[encoded data removed]"
          },
          "metadata": {
            "needs_background": "light"
          }
        }
      ],
      "source": [
        "ss = d[d[\"well\"]==\"A02\"]\n",
        "# names = ['Linear', 'Log2', 'Normalized log2']\n",
        "fig, axs = plt.subplots(figsize=(12, 4))\n",
        "plt.subplot(131)\n",
        "plt.ylabel('Cell number')\n",
        "sns.scatterplot(data=ss, x=\"time\", y=\"cell.count\")\n",
        "plt.subplot(132)\n",
        "plt.ylabel('Log2(cell number)')\n",
        "sns.scatterplot(data=ss, x=\"time\", y=\"l2\")\n",
        "plt.subplot(133)\n",
        "plt.ylabel('Population doublings')\n",
        "sns.scatterplot(data=ss, x=\"time\", y=\"pd\")\n",
        "plt.show()"
      ]
    },
    {
      "cell_type": "markdown",
      "id": "95a0731e-59a7-4cfb-9087-7f0232c3b0da",
      "metadata": {
        "id": "95a0731e-59a7-4cfb-9087-7f0232c3b0da"
      },
      "source": [
        "#### Look at aggregated data\n",
        "Many seaborn functions will automatically perform the statistical estimation. In the plots below, data will be grouped by `drug1` using the seaborn `hue` argument."
      ]
    },
    {
      "cell_type": "code",
      "execution_count": null,
      "id": "72a45a3e-b307-43cd-af53-1ac27c02fec0",
      "metadata": {
        "colab": {
          "base_uri": "https://localhost:8080/",
          "height": 304
        },
        "id": "72a45a3e-b307-43cd-af53-1ac27c02fec0",
        "outputId": "be2dda25-6c3f-4ee1-86c6-a203fbaaa670"
      },
      "outputs": [
        {
          "output_type": "display_data",
          "data": {
            "text/plain": [
              "<Figure size 864x288 with 3 Axes>"
            ],
            "image/png": "[encoded data removed]"
          },
          "metadata": {
            "needs_background": "light"
          }
        }
      ],
      "source": [
        "fig, (ax1, ax2, ax3) = plt.subplots(nrows=1, ncols=3, figsize=(12, 4))\n",
        "plt.subplot(131)\n",
        "plt.xlabel('Time (h)')\n",
        "plt.ylabel('Cell number')\n",
        "sns.lineplot(data=d, x=\"time\", y=\"cell.count\", hue=\"drug1\")\n",
        "plt.legend(loc='upper left', fontsize='8')\n",
        "plt.subplot(132)\n",
        "plt.xlabel('Time (h)')\n",
        "plt.ylabel('Log2(cell number)')\n",
        "sns.lineplot(data=d, x=\"time\", y=\"l2\", hue=\"drug1\")\n",
        "plt.legend(loc='upper left', fontsize='8')\n",
        "plt.subplot(133)\n",
        "plt.xlabel('Time (h)')\n",
        "plt.ylabel('Population doublings')\n",
        "sns.lineplot(data=d, x=\"time\", y=\"pd\", hue=\"drug1\")\n",
        "plt.legend(loc='upper left', fontsize='8')\n",
        "plt.show()\n"
      ]
    },
    {
      "cell_type": "markdown",
      "id": "aaf8399f-9670-46fc-af7e-fe2cc85ebb88",
      "metadata": {
        "id": "aaf8399f-9670-46fc-af7e-fe2cc85ebb88"
      },
      "source": [
        "The shaded areas represent confidence intervals. Compare the confidence interval between the log2 and normalized log2 plots, especially at time < 100 h."
      ]
    },
    {
      "cell_type": "markdown",
      "id": "154dba49-a823-4eb6-a004-63a9698bb955",
      "metadata": {
        "id": "154dba49-a823-4eb6-a004-63a9698bb955"
      },
      "source": [
        "How many samples of each type are there? Calculate this by counting the number of unique `well`s there are in each group (`drug1`==trametinib or control)"
      ]
    },
    {
      "cell_type": "code",
      "execution_count": null,
      "id": "21c868af-fb1b-4f07-8ef1-6bd912932254",
      "metadata": {
        "colab": {
          "base_uri": "https://localhost:8080/"
        },
        "id": "21c868af-fb1b-4f07-8ef1-6bd912932254",
        "outputId": "755643d6-90b6-42f3-e589-4f6aa5640fee"
      },
      "outputs": [
        {
          "output_type": "stream",
          "name": "stdout",
          "text": [
            "Wells with trametinib treatment: n = 2\n",
            "Control wells: n = 10\n"
          ]
        }
      ],
      "source": [
        "n_tram = len(d[d[\"drug1\"]==\"trametinib\"][\"well\"].unique())\n",
        "n_ctrl = len(d[d[\"drug1\"]!=\"trametinib\"][\"well\"].unique())\n",
        "\n",
        "print(f\"Wells with trametinib treatment: n = {n_tram}\\nControl wells: n = {n_ctrl}\")"
      ]
    },
    {
      "cell_type": "markdown",
      "id": "893b067d-b9d0-47bb-b4e1-7051aa6a3421",
      "metadata": {
        "id": "893b067d-b9d0-47bb-b4e1-7051aa6a3421"
      },
      "source": [
        "#### Look at data by well\n",
        "To see each well of data individually we will set `hue` to color data by `well`."
      ]
    },
    {
      "cell_type": "code",
      "execution_count": null,
      "id": "fe669618-97e3-4dd6-8b98-74d85ccc42b1",
      "metadata": {
        "colab": {
          "base_uri": "https://localhost:8080/",
          "height": 298
        },
        "id": "fe669618-97e3-4dd6-8b98-74d85ccc42b1",
        "outputId": "e18ad94a-5cf8-42ab-dd12-9c3c0e59ef99"
      },
      "outputs": [
        {
          "output_type": "display_data",
          "data": {
            "text/plain": [
              "<Figure size 864x288 with 3 Axes>"
            ],
            "image/png": "[encoded data removed]"
          },
          "metadata": {
            "needs_background": "light"
          }
        }
      ],
      "source": [
        "fig, axs = plt.subplots(nrows=1, ncols=3, figsize=(12, 4))\n",
        "plt.subplot(131)\n",
        "plt.xlabel('Time (h)')\n",
        "plt.ylabel('Cell number')\n",
        "sns.lineplot(data=d, x=\"time\", y=\"cell.count\", hue=\"well\")\n",
        "plt.legend(loc='upper left', fontsize='8')\n",
        "plt.subplot(132)\n",
        "plt.xlabel('Time (h)')\n",
        "plt.ylabel('Log2(cell number)')\n",
        "sns.lineplot(data=d, x=\"time\", y=\"l2\", hue=\"well\")\n",
        "plt.legend(loc='upper left', fontsize='8')\n",
        "plt.subplot(133)\n",
        "plt.xlabel('Time (h)')\n",
        "plt.ylabel('Population doublings')\n",
        "sns.lineplot(data=d, x=\"time\", y=\"pd\", hue=\"well\")\n",
        "plt.legend(loc='upper left', fontsize='8')\n",
        "plt.show()"
      ]
    },
    {
      "cell_type": "markdown",
      "id": "b70a0be3-611d-425c-8f75-14e1b9c5588d",
      "metadata": {
        "id": "b70a0be3-611d-425c-8f75-14e1b9c5588d"
      },
      "source": [
        "How well do the individual lines reflect your expectations from the aggregated data with confidence intervals? Do any wells clearly stand out? Let's look only at wells A04, A05 and A07 in log2 scale and visualize each individual data point using `scatterplot`."
      ]
    },
    {
      "cell_type": "code",
      "execution_count": null,
      "id": "b0458a96-3200-4988-a61c-0c44aec6b0d4",
      "metadata": {
        "colab": {
          "base_uri": "https://localhost:8080/",
          "height": 315
        },
        "id": "b0458a96-3200-4988-a61c-0c44aec6b0d4",
        "outputId": "cbb57f9c-da81-4eeb-b3d9-22b75c39ad2b"
      },
      "outputs": [
        {
          "output_type": "execute_result",
          "data": {
            "text/plain": [
              "<matplotlib.legend.Legend at 0x7f65148e74c0>"
            ]
          },
          "metadata": {},
          "execution_count": 16
        },
        {
          "output_type": "display_data",
          "data": {
            "text/plain": [
              "<Figure size 432x288 with 1 Axes>"
            ],
            "image/png": "[encoded data removed]"
          },
          "metadata": {
            "needs_background": "light"
          }
        }
      ],
      "source": [
        "# dtp = data to plot\n",
        "dtp = d[(d[\"well\"] == \"A04\") | (d[\"well\"] == \"A05\") | (d[\"well\"] == \"A07\")]\n",
        "sns.scatterplot(data=dtp, x=\"time\", y=\"l2\", hue=\"well\")\n",
        "plt.legend(loc='upper left', fontsize='8')"
      ]
    },
    {
      "cell_type": "markdown",
      "id": "759f0e12-f434-48d4-a846-598badd68e64",
      "metadata": {
        "id": "759f0e12-f434-48d4-a846-598badd68e64"
      },
      "source": [
        "## Assignment task #2\n",
        "Generate a scatterplot of population doublings over time for the same wells as the block above (wells A04, A05 and A07). Describe the difference you see between the new graph and the graph of data in log2 scale."
      ]
    },
    {
      "cell_type": "code",
      "execution_count": null,
      "id": "b22f7170-76bc-42c9-af8e-fd623469b30c",
      "metadata": {
        "id": "b22f7170-76bc-42c9-af8e-fd623469b30c",
        "colab": {
          "base_uri": "https://localhost:8080/",
          "height": 315
        },
        "outputId": "56f7c942-cf08-4489-a592-bc3d46fba33a"
      },
      "outputs": [
        {
          "output_type": "execute_result",
          "data": {
            "text/plain": [
              "<matplotlib.legend.Legend at 0x7f6512c3ca30>"
            ]
          },
          "metadata": {},
          "execution_count": 17
        },
        {
          "output_type": "display_data",
          "data": {
            "text/plain": [
              "<Figure size 432x288 with 1 Axes>"
            ],
            "image/png": "[encoded data removed]"
          },
          "metadata": {
            "needs_background": "light"
          }
        }
      ],
      "source": [
        "#code for scatterplot of population doublings below\n",
        "#changed the y=pd, instead of y=12\n",
        "dtp = d[(d[\"well\"] == \"A04\") | (d[\"well\"] == \"A05\") | (d[\"well\"] == \"A07\")]\n",
        "sns.scatterplot(data=dtp, x=\"time\", y=\"pd\", hue=\"well\")\n",
        "plt.legend(loc='upper left', fontsize='8')\n",
        "\n",
        "#differences observed in the Log2 graph: all three wells (A04, A05, A07) gradually increasing with separation between the them, A04 fastest and most exponential growth \n",
        "#new graph: changed the y=12 to y=pd, all three wells are stacked on one another until A05 plateaus, A04 and A07 keep growing with an upwards slope"
      ]
    },
    {
      "cell_type": "markdown",
      "id": "cad14622-98de-4521-9cc7-8c6b01c7c583",
      "metadata": {
        "id": "cad14622-98de-4521-9cc7-8c6b01c7c583"
      },
      "source": [
        "*Describe your comparison of the data shown in log2 (`l2`) and normalized log2 (`pd`).*\n",
        "\n",
        "####Some differences I have observed in the Log2 graph is all three wells (A04, A05, A07) generally are gradually increasing with separation betweens the three wells with A04 having the fastest and most exponential growth out of the three wells \n",
        "####Whereas for the new graph I changed the y=12 to y=pd that all three wells are stacked on one another until A05 plateaus while A04 and A07 keep growing in a upwards slope fashion \n"
      ]
    },
    {
      "cell_type": "markdown",
      "id": "b2ad573a-5ba5-4e3a-a6c3-eebc3730e83d",
      "metadata": {
        "id": "b2ad573a-5ba5-4e3a-a6c3-eebc3730e83d"
      },
      "source": [
        "Apart from visually inspecting the data, we should use model fitting to extract parameter values that can help us interpret the data quantitatively."
      ]
    },
    {
      "cell_type": "markdown",
      "id": "52ab9eb0-8019-4f34-8a94-f095019df421",
      "metadata": {
        "id": "52ab9eb0-8019-4f34-8a94-f095019df421"
      },
      "source": [
        "## Model fitting\n",
        "### Use SciPy's `linregress` function or Seaborn's `lmplot` function\n",
        "Because an exponential growth rate is directly proportional to the log of the number of components (i.e., cells), we can fit each well of data independently with a linear model to help interpret the data. Linear models are easy to fit and fitting functions are commonly provided by many different Python packages. We will find optimum parameters using two different packages: [`scipy.stats.lingress`](https://docs.scipy.org/doc/scipy/reference/generated/scipy.stats.linregress.html) and [`seaborn.lmplot`](). You can learn more about these algorithms by clicking on their names to get a link to online documentation.\n"
      ]
    },
    {
      "cell_type": "code",
      "execution_count": null,
      "id": "8fea67ea-f287-431b-b895-174fc71940d2",
      "metadata": {
        "id": "8fea67ea-f287-431b-b895-174fc71940d2"
      },
      "outputs": [],
      "source": [
        "from scipy.stats import linregress"
      ]
    },
    {
      "cell_type": "markdown",
      "id": "f800f6e5-54be-4420-8395-1f2a235cb829",
      "metadata": {
        "id": "f800f6e5-54be-4420-8395-1f2a235cb829"
      },
      "source": [
        "Let's fit only the control data (`drug1.conc` == 0)"
      ]
    },
    {
      "cell_type": "code",
      "execution_count": null,
      "id": "9178cdf4-ea40-4404-9968-d2b4e8d8916f",
      "metadata": {
        "id": "9178cdf4-ea40-4404-9968-d2b4e8d8916f"
      },
      "outputs": [],
      "source": [
        "# dtf = data to fit\n",
        "dtf = d[d[\"drug1.conc\"]==0]\n",
        "ctrl_wells = dtf[\"well\"].unique()"
      ]
    },
    {
      "cell_type": "markdown",
      "id": "64346a18-877b-48df-ac54-5dc39d364c04",
      "metadata": {
        "id": "64346a18-877b-48df-ac54-5dc39d364c04"
      },
      "source": [
        "We will perform a list comprehension to fit data for each well independently."
      ]
    },
    {
      "cell_type": "code",
      "execution_count": null,
      "id": "0cbfeb0c-2bbd-445f-a35f-457fe69937f3",
      "metadata": {
        "id": "0cbfeb0c-2bbd-445f-a35f-457fe69937f3"
      },
      "outputs": [],
      "source": [
        "res = [linregress(dtf[dtf[\"well\"]==ctrl_wells[i]][[\"time\",\"l2\"]]) for i in np.arange(len(ctrl_wells))]"
      ]
    },
    {
      "cell_type": "markdown",
      "id": "b35b0afe-3e3b-4b70-ae4f-dc651f50d9ca",
      "metadata": {
        "id": "b35b0afe-3e3b-4b70-ae4f-dc651f50d9ca"
      },
      "source": [
        "The `linregress` function returns a `namedtuple` of length 5. Let's look at an example output."
      ]
    },
    {
      "cell_type": "code",
      "execution_count": null,
      "id": "e5f82ff0-829a-44cb-8548-afd68b4fab4d",
      "metadata": {
        "colab": {
          "base_uri": "https://localhost:8080/"
        },
        "id": "e5f82ff0-829a-44cb-8548-afd68b4fab4d",
        "outputId": "c18a86d9-f491-4057-b940-ec1835e552aa"
      },
      "outputs": [
        {
          "output_type": "stream",
          "name": "stdout",
          "text": [
            "Example linregress output for well A03\n"
          ]
        },
        {
          "output_type": "execute_result",
          "data": {
            "text/plain": [
              "LinregressResult(slope=0.060846424497371744, intercept=5.212788495165553, rvalue=0.9990947611147231, pvalue=4.776167619926461e-33, stderr=0.0005402101680293283, intercept_stderr=0.036687154857080205)"
            ]
          },
          "metadata": {},
          "execution_count": 21
        }
      ],
      "source": [
        "example_well = dtf[\"well\"].unique()[1]\n",
        "print(f\"Example linregress output for well {example_well}\")\n",
        "res[1]"
      ]
    },
    {
      "cell_type": "markdown",
      "id": "4bf15674-73c4-407e-9774-4e1fd6d7ca08",
      "metadata": {
        "id": "4bf15674-73c4-407e-9774-4e1fd6d7ca08"
      },
      "source": [
        "Each value can be pulled out independently using the respective names. We will pull out all `slope` values, which represent the population doubling (proliferation) rate. To make it a bit easier to read we will also round the values to 4 decimal places."
      ]
    },
    {
      "cell_type": "code",
      "execution_count": null,
      "id": "ca448f0e-839c-4bf6-bd73-1102897d1196",
      "metadata": {
        "colab": {
          "base_uri": "https://localhost:8080/"
        },
        "id": "ca448f0e-839c-4bf6-bd73-1102897d1196",
        "outputId": "90f12a52-3b11-45ed-b47e-4adc5184c1a7"
      },
      "outputs": [
        {
          "output_type": "execute_result",
          "data": {
            "text/plain": [
              "A02    0.0602\n",
              "A03    0.0608\n",
              "A04    0.0596\n",
              "A05    0.0421\n",
              "A06    0.0632\n",
              "A07    0.0528\n",
              "A08    0.0612\n",
              "A09    0.0515\n",
              "A10    0.0592\n",
              "A11    0.0557\n",
              "dtype: float64"
            ]
          },
          "metadata": {},
          "execution_count": 22
        }
      ],
      "source": [
        "prates = pd.Series(data=[np.round(r.slope,4) for r in res], index=ctrl_wells)\n",
        "prates"
      ]
    },
    {
      "cell_type": "markdown",
      "id": "0866a88c-9647-4c9f-bc19-11cdf04e3af4",
      "metadata": {
        "id": "0866a88c-9647-4c9f-bc19-11cdf04e3af4"
      },
      "source": [
        "Most values are above 0.05 and most are close to 0.06, but one value looks low (A05: 0.0421). We can check for goodness of fit for linear regression by calculating $R^2$. (Only `rvalue` is provided, so we need to square it using `**2`.)"
      ]
    },
    {
      "cell_type": "code",
      "execution_count": null,
      "id": "f286e02f-4282-431c-bd00-5782b1ec398d",
      "metadata": {
        "colab": {
          "base_uri": "https://localhost:8080/"
        },
        "id": "f286e02f-4282-431c-bd00-5782b1ec398d",
        "outputId": "3a3c2f3d-d758-4e1b-ef43-714e968bd5a2"
      },
      "outputs": [
        {
          "output_type": "execute_result",
          "data": {
            "text/plain": [
              "A02    0.9940\n",
              "A03    0.9982\n",
              "A04    0.9916\n",
              "A05    0.8989\n",
              "A06    0.9976\n",
              "A07    0.9948\n",
              "A08    0.9951\n",
              "A09    0.9906\n",
              "A10    0.9963\n",
              "A11    0.9961\n",
              "dtype: float64"
            ]
          },
          "metadata": {},
          "execution_count": 23
        }
      ],
      "source": [
        "r2_vals = pd.Series(data=[np.round(r.rvalue**2,4) for r in res], index=ctrl_wells)\n",
        "r2_vals"
      ]
    },
    {
      "cell_type": "markdown",
      "id": "56c980c4-7a5e-4584-bb46-929e993244df",
      "metadata": {
        "id": "56c980c4-7a5e-4584-bb46-929e993244df"
      },
      "source": [
        "Only well A05 has an $R^2$ value < 0.99."
      ]
    },
    {
      "cell_type": "markdown",
      "id": "aebafc13-a5dd-4cf8-a932-e44d057a416d",
      "metadata": {
        "id": "aebafc13-a5dd-4cf8-a932-e44d057a416d"
      },
      "source": [
        "So, 9 of 10 control wells are explained well by linear models. This fits with the visual evidence that something anomalous happens to the cell counts in well A05 after ~75. This is consistent with a possible technical problem when medium is changed in the experiment @ ~ 72h.  "
      ]
    },
    {
      "cell_type": "markdown",
      "id": "14240290-81c5-4de3-bef8-274eb4338c04",
      "metadata": {
        "id": "14240290-81c5-4de3-bef8-274eb4338c04"
      },
      "source": [
        "## Assignment task #3\n",
        "Perform linear regression using the `linregress` function on the trametinib-treated wells. Describe how the proliferation rates compare to the rates of the control wells in the subsequent markdown block."
      ]
    },
    {
      "cell_type": "code",
      "execution_count": null,
      "id": "3a6d7961-96e5-4f57-aa99-9a808a3dbe27",
      "metadata": {
        "id": "3a6d7961-96e5-4f57-aa99-9a808a3dbe27"
      },
      "outputs": [],
      "source": [
        "#complete linear regression on the trametinib-treated wells\n",
        "dtf = d[d[\"drug1.conc\"]==3.9875e-06]\n",
        "drug_wells=dtf[\"well\"].unique() "
      ]
    },
    {
      "cell_type": "code",
      "source": [
        "res = [linregress(dtf[dtf[\"well\"]==drug_wells[i]][[\"time\",\"l2\"]]) for i in np.arange(len(drug_wells))]"
      ],
      "metadata": {
        "id": "gvU-oIawIE5C"
      },
      "id": "gvU-oIawIE5C",
      "execution_count": null,
      "outputs": []
    },
    {
      "cell_type": "code",
      "source": [
        "example_well = dtf[\"well\"].unique()[1]\n",
        "print(f\"Example linregress output for well {example_well}\")\n",
        "res[1]"
      ],
      "metadata": {
        "colab": {
          "base_uri": "https://localhost:8080/"
        },
        "id": "szbWy-hXIHE6",
        "outputId": "f610546f-6311-4ce2-ba9c-ffcf1ac03aae"
      },
      "id": "szbWy-hXIHE6",
      "execution_count": null,
      "outputs": [
        {
          "output_type": "stream",
          "name": "stdout",
          "text": [
            "Example linregress output for well A12\n"
          ]
        },
        {
          "output_type": "execute_result",
          "data": {
            "text/plain": [
              "LinregressResult(slope=0.0018027181675447268, intercept=5.804797993779366, rvalue=0.2947633020923504, pvalue=0.1526106083686435, stderr=0.001218577477198253, intercept_stderr=0.08275694027457718)"
            ]
          },
          "metadata": {},
          "execution_count": 26
        }
      ]
    },
    {
      "cell_type": "code",
      "source": [
        "prates = pd.Series(data=[np.round(r.slope,4) for r in res], index=drug_wells)\n",
        "prates"
      ],
      "metadata": {
        "colab": {
          "base_uri": "https://localhost:8080/"
        },
        "id": "PJD_B4XdIHM6",
        "outputId": "7bd65f90-44b0-4d94-cda6-767bf1040516"
      },
      "id": "PJD_B4XdIHM6",
      "execution_count": null,
      "outputs": [
        {
          "output_type": "execute_result",
          "data": {
            "text/plain": [
              "A01    0.0013\n",
              "A12    0.0018\n",
              "dtype: float64"
            ]
          },
          "metadata": {},
          "execution_count": 27
        }
      ]
    },
    {
      "cell_type": "code",
      "source": [
        "r2_vals = pd.Series(data=[np.round(r.rvalue**2,4) for r in res], index=drug_wells)\n",
        "r2_vals"
      ],
      "metadata": {
        "colab": {
          "base_uri": "https://localhost:8080/"
        },
        "id": "aC-OGYupJATV",
        "outputId": "064757a6-e89e-4c5e-9de0-9243180a7d17"
      },
      "id": "aC-OGYupJATV",
      "execution_count": null,
      "outputs": [
        {
          "output_type": "execute_result",
          "data": {
            "text/plain": [
              "A01    0.0234\n",
              "A12    0.0869\n",
              "dtype: float64"
            ]
          },
          "metadata": {},
          "execution_count": 28
        }
      ]
    },
    {
      "cell_type": "markdown",
      "id": "68348d8a-9f8c-44ba-bc41-0a9548286b76",
      "metadata": {
        "id": "68348d8a-9f8c-44ba-bc41-0a9548286b76"
      },
      "source": [
        "*Describe here your comparison of the rates between trametinib-treated wells and the control wells.*\n",
        "\n",
        "> ####The trametinib-treated wells had drastically lower R2 value(s) than the control wells. The R2 values were 0.2 and 0.9 in the trametinib well. This differs from the R2 values ranging between .899 and .998 in the control-treated wells. Only A01 and A12 were the trametinib-treated wells.  \n",
        "\n",
        "\n"
      ]
    },
    {
      "cell_type": "markdown",
      "id": "a543b1dd-6136-4c6b-81a8-f4beec76df7c",
      "metadata": {
        "id": "a543b1dd-6136-4c6b-81a8-f4beec76df7c"
      },
      "source": [
        "We will visualize the linear model fitting using the seaborn `lmplot` function, which uses SciPy `linregress` function itself. This is a simple way to visualize the fits and their confidence intervals."
      ]
    },
    {
      "cell_type": "code",
      "execution_count": null,
      "id": "65b0b21d-ffc3-42c7-b1d7-913d281e39ac",
      "metadata": {
        "colab": {
          "base_uri": "https://localhost:8080/",
          "height": 377
        },
        "id": "65b0b21d-ffc3-42c7-b1d7-913d281e39ac",
        "outputId": "3f5e842a-6694-41bb-982e-3db4ea6edf19"
      },
      "outputs": [
        {
          "output_type": "display_data",
          "data": {
            "text/plain": [
              "<Figure size 451.65x360 with 1 Axes>"
            ],
            "image/png": "[encoded data removed]"
          },
          "metadata": {
            "needs_background": "light"
          }
        }
      ],
      "source": [
        "p = sns.lmplot(data=d, x=\"time\", y=\"pd\", hue=\"well\")"
      ]
    },
    {
      "cell_type": "markdown",
      "id": "dbbd32cc-aa59-4839-922f-8443c38ea42b",
      "metadata": {
        "id": "dbbd32cc-aa59-4839-922f-8443c38ea42b"
      },
      "source": [
        "We can also get fit parameter values from models fitting to all data from each condition (control or trametinib-treated)."
      ]
    },
    {
      "cell_type": "code",
      "execution_count": null,
      "id": "cdeaa57f-6ae9-4f2b-a254-08bdfbc8da22",
      "metadata": {
        "colab": {
          "base_uri": "https://localhost:8080/",
          "height": 352
        },
        "id": "cdeaa57f-6ae9-4f2b-a254-08bdfbc8da22",
        "outputId": "779c3ffd-4ec6-4313-fdfb-5c007f7416f8"
      },
      "outputs": [
        {
          "output_type": "display_data",
          "data": {
            "text/plain": [
              "<Figure size 505.65x360 with 1 Axes>"
            ],
            "image/png": "[encoded data removed]"
          },
          "metadata": {
            "needs_background": "light"
          }
        }
      ],
      "source": [
        "p = sns.lmplot(data=d, x=\"time\", y=\"pd\", hue=\"drug1\")"
      ]
    },
    {
      "cell_type": "markdown",
      "id": "86f8611a-f42f-4b12-b162-f7ebd8e26466",
      "metadata": {
        "id": "86f8611a-f42f-4b12-b162-f7ebd8e26466"
      },
      "source": [
        "## Non-loglinear data\n",
        "When cells are in conditions that limit their proliferation or increase cell death, such as when contact inhibited or treated with drugs, their growth may appear nonlinear. To analyze data like this we can interpret the data using nonlinear model fitting. For this exercise we will use simulated data. "
      ]
    },
    {
      "cell_type": "code",
      "execution_count": null,
      "id": "1dd0cd18-72e6-4d70-ab38-b0bc3109352a",
      "metadata": {
        "colab": {
          "base_uri": "https://localhost:8080/",
          "height": 206
        },
        "id": "1dd0cd18-72e6-4d70-ab38-b0bc3109352a",
        "outputId": "a7a9aaf8-74e4-43a4-f54b-128d748ca6d9"
      },
      "outputs": [
        {
          "output_type": "execute_result",
          "data": {
            "text/plain": [
              "   time  cell.count        pd\n",
              "0     0  108.452629  0.000000\n",
              "1     3  114.671082  0.080437\n",
              "2     6  137.605309  0.343471\n",
              "3     9  163.397796  0.591324\n",
              "4    12  178.516048  0.718989"
            ],
            "text/html": [
              "\n",
              "  <div id=\"df-71dd0bf1-2c91-46c3-bba6-d4dcc5aa7fe8\">\n",
              "    <div class=\"colab-df-container\">\n",
              "      <div>\n",
              "<style scoped>\n",
              "    .dataframe tbody tr th:only-of-type {\n",
              "        vertical-align: middle;\n",
              "    }\n",
              "\n",
              "    .dataframe tbody tr th {\n",
              "        vertical-align: top;\n",
              "    }\n",
              "\n",
              "    .dataframe thead th {\n",
              "        text-align: right;\n",
              "    }\n",
              "</style>\n",
              "<table border=\"1\" class=\"dataframe\">\n",
              "  <thead>\n",
              "    <tr style=\"text-align: right;\">\n",
              "      <th></th>\n",
              "      <th>time</th>\n",
              "      <th>cell.count</th>\n",
              "      <th>pd</th>\n",
              "    </tr>\n",
              "  </thead>\n",
              "  <tbody>\n",
              "    <tr>\n",
              "      <th>0</th>\n",
              "      <td>0</td>\n",
              "      <td>108.452629</td>\n",
              "      <td>0.000000</td>\n",
              "    </tr>\n",
              "    <tr>\n",
              "      <th>1</th>\n",
              "      <td>3</td>\n",
              "      <td>114.671082</td>\n",
              "      <td>0.080437</td>\n",
              "    </tr>\n",
              "    <tr>\n",
              "      <th>2</th>\n",
              "      <td>6</td>\n",
              "      <td>137.605309</td>\n",
              "      <td>0.343471</td>\n",
              "    </tr>\n",
              "    <tr>\n",
              "      <th>3</th>\n",
              "      <td>9</td>\n",
              "      <td>163.397796</td>\n",
              "      <td>0.591324</td>\n",
              "    </tr>\n",
              "    <tr>\n",
              "      <th>4</th>\n",
              "      <td>12</td>\n",
              "      <td>178.516048</td>\n",
              "      <td>0.718989</td>\n",
              "    </tr>\n",
              "  </tbody>\n",
              "</table>\n",
              "</div>\n",
              "      <button class=\"colab-df-convert\" onclick=\"convertToInteractive('df-71dd0bf1-2c91-46c3-bba6-d4dcc5aa7fe8')\"\n",
              "              title=\"Convert this dataframe to an interactive table.\"\n",
              "              style=\"display:none;\">\n",
              "        \n",
              "  <svg xmlns=\"http://www.w3.org/2000/svg\" height=\"24px\"viewBox=\"0 0 24 24\"\n",
              "       width=\"24px\">\n",
              "    <path d=\"M0 0h24v24H0V0z\" fill=\"none\"/>\n",
              "    <path d=\"M18.56 5.44l.94 2.06.94-2.06 2.06-.94-2.06-.94-.94-2.06-.94 2.06-2.06.94zm-11 1L8.5 8.5l.94-2.06 2.06-.94-2.06-.94L8.5 2.5l-.94 2.06-2.06.94zm10 10l.94 2.06.94-2.06 2.06-.94-2.06-.94-.94-2.06-.94 2.06-2.06.94z\"/><path d=\"M17.41 7.96l-1.37-1.37c-.4-.4-.92-.59-1.43-.59-.52 0-1.04.2-1.43.59L10.3 9.45l-7.72 7.72c-.78.78-.78 2.05 0 2.83L4 21.41c.39.39.9.59 1.41.59.51 0 1.02-.2 1.41-.59l7.78-7.78 2.81-2.81c.8-.78.8-2.07 0-2.86zM5.41 20L4 18.59l7.72-7.72 1.47 1.35L5.41 20z\"/>\n",
              "  </svg>\n",
              "      </button>\n",
              "      \n",
              "  <style>\n",
              "    .colab-df-container {\n",
              "      display:flex;\n",
              "      flex-wrap:wrap;\n",
              "      gap: 12px;\n",
              "    }\n",
              "\n",
              "    .colab-df-convert {\n",
              "      background-color: #E8F0FE;\n",
              "      border: none;\n",
              "      border-radius: 50%;\n",
              "      cursor: pointer;\n",
              "      display: none;\n",
              "      fill: #1967D2;\n",
              "      height: 32px;\n",
              "      padding: 0 0 0 0;\n",
              "      width: 32px;\n",
              "    }\n",
              "\n",
              "    .colab-df-convert:hover {\n",
              "      background-color: #E2EBFA;\n",
              "      box-shadow: 0px 1px 2px rgba(60, 64, 67, 0.3), 0px 1px 3px 1px rgba(60, 64, 67, 0.15);\n",
              "      fill: #174EA6;\n",
              "    }\n",
              "\n",
              "    [theme=dark] .colab-df-convert {\n",
              "      background-color: #3B4455;\n",
              "      fill: #D2E3FC;\n",
              "    }\n",
              "\n",
              "    [theme=dark] .colab-df-convert:hover {\n",
              "      background-color: #434B5C;\n",
              "      box-shadow: 0px 1px 3px 1px rgba(0, 0, 0, 0.15);\n",
              "      filter: drop-shadow(0px 1px 2px rgba(0, 0, 0, 0.3));\n",
              "      fill: #FFFFFF;\n",
              "    }\n",
              "  </style>\n",
              "\n",
              "      <script>\n",
              "        const buttonEl =\n",
              "          document.querySelector('#df-71dd0bf1-2c91-46c3-bba6-d4dcc5aa7fe8 button.colab-df-convert');\n",
              "        buttonEl.style.display =\n",
              "          google.colab.kernel.accessAllowed ? 'block' : 'none';\n",
              "\n",
              "        async function convertToInteractive(key) {\n",
              "          const element = document.querySelector('#df-71dd0bf1-2c91-46c3-bba6-d4dcc5aa7fe8');\n",
              "          const dataTable =\n",
              "            await google.colab.kernel.invokeFunction('convertToInteractive',\n",
              "                                                     [key], {});\n",
              "          if (!dataTable) return;\n",
              "\n",
              "          const docLinkHtml = 'Like what you see? Visit the ' +\n",
              "            '<a target=\"_blank\" href=https://colab.research.google.com/notebooks/data_table.ipynb>data table notebook</a>'\n",
              "            + ' to learn more about interactive tables.';\n",
              "          element.innerHTML = '';\n",
              "          dataTable['output_type'] = 'display_data';\n",
              "          await google.colab.output.renderOutput(dataTable, element);\n",
              "          const docLink = document.createElement('div');\n",
              "          docLink.innerHTML = docLinkHtml;\n",
              "          element.appendChild(docLink);\n",
              "        }\n",
              "      </script>\n",
              "    </div>\n",
              "  </div>\n",
              "  "
            ]
          },
          "metadata": {},
          "execution_count": 31
        }
      ],
      "source": [
        "np.random.seed(7)\n",
        "times_by3 = np.arange(0,126,3)\n",
        "mycounts = mylogistic(t=times_by3, P0=100, rate=0.06, K=1000)\n",
        "sim_data = pd.DataFrame.from_dict({\"time\":times_by3,\"cell.count\":flatten_matrix([np.random.normal(x,0.05*x,1) for x in mycounts])})\n",
        "sim_data[\"pd\"] = np.log2(sim_data[\"cell.count\"]/sim_data[\"cell.count\"][0])\n",
        "sim_data.head()"
      ]
    },
    {
      "cell_type": "code",
      "execution_count": null,
      "id": "f9d9c4a9-903e-4ae1-9dac-7dae6b90f08d",
      "metadata": {
        "id": "f9d9c4a9-903e-4ae1-9dac-7dae6b90f08d",
        "colab": {
          "base_uri": "https://localhost:8080/",
          "height": 315
        },
        "outputId": "d4c21c0c-2545-4453-cf4f-f9b917451cad"
      },
      "outputs": [
        {
          "output_type": "execute_result",
          "data": {
            "text/plain": [
              "<AxesSubplot:xlabel='time', ylabel='pd'>"
            ]
          },
          "metadata": {},
          "execution_count": 32
        },
        {
          "output_type": "display_data",
          "data": {
            "text/plain": [
              "<Figure size 432x288 with 1 Axes>"
            ],
            "image/png": "[encoded data removed]"
          },
          "metadata": {
            "needs_background": "light"
          }
        }
      ],
      "source": [
        "sns.scatterplot(data=sim_data, x=\"time\", y=\"pd\")"
      ]
    },
    {
      "cell_type": "markdown",
      "id": "5725808c-f3b2-47ed-b7a8-514a63b8deb9",
      "metadata": {
        "id": "5725808c-f3b2-47ed-b7a8-514a63b8deb9"
      },
      "source": [
        "## Nonlinear model fitting with SciPy's `curve_fit` function\n",
        "Nonlinear model fitting is more complicated and there aremany ways that optimal parameter values can be found. There is an entire field of research around parameter optimization! We will use a specific method employed by SciPy (the [`scipy.optimize.curve_fit`](https://docs.scipy.org/doc/scipy/reference/generated/scipy.optimize.curve_fit.html) function) that has the objective to minimize the sum of the squared residuals of model to data.  It returns optimized coefficient values (`popt`) and the estimated covariance of `popt`. The diagonals provide the variance of the parameter estimates. To compute one standard deviation of parameter errors, we will use `perr = np.sqrt(np.diag(pcov))`.  \n",
        "\n",
        "This approach to identify optimal parameter values is referred to as least squares regression and attempts to minimize the function \n",
        "$\\sum_i(f(x_i,\\beta)-y_i)^2$\n"
      ]
    },
    {
      "cell_type": "code",
      "execution_count": null,
      "id": "112958e8-43f8-489b-b32b-234f1b34852c",
      "metadata": {
        "id": "112958e8-43f8-489b-b32b-234f1b34852c"
      },
      "outputs": [],
      "source": [
        "from scipy.optimize import curve_fit"
      ]
    },
    {
      "cell_type": "markdown",
      "id": "46860fe6-0035-4c59-989e-a5c123672c2c",
      "metadata": {
        "id": "46860fe6-0035-4c59-989e-a5c123672c2c"
      },
      "source": [
        "The function `{0:.4g}\".format(x)` is for limiting the number of digits of the calculated values (making viewing the values easier)."
      ]
    },
    {
      "cell_type": "code",
      "execution_count": null,
      "id": "889c0d0b-4721-438a-9017-344f56ab858c",
      "metadata": {
        "id": "889c0d0b-4721-438a-9017-344f56ab858c"
      },
      "outputs": [],
      "source": [
        "logistic_popt, logistic_pcov = curve_fit(mylogistic, sim_data[\"time\"], sim_data[\"cell.count\"])\n",
        "logistic_popt_str = [\"{0:.4g}\".format(x) for x in logistic_popt]\n"
      ]
    },
    {
      "cell_type": "markdown",
      "id": "c95a0c96-8b81-4455-ac57-3b0a78a5fd7f",
      "metadata": {
        "id": "c95a0c96-8b81-4455-ac57-3b0a78a5fd7f"
      },
      "source": [
        "Printing the optimal parameter values."
      ]
    },
    {
      "cell_type": "code",
      "execution_count": null,
      "id": "411cf5b6-294e-44fb-9627-176ba593a8be",
      "metadata": {
        "colab": {
          "base_uri": "https://localhost:8080/"
        },
        "id": "411cf5b6-294e-44fb-9627-176ba593a8be",
        "outputId": "c3524cbe-bfe1-467b-9a6c-c5fb4c3b14fe"
      },
      "outputs": [
        {
          "output_type": "stream",
          "name": "stdout",
          "text": [
            "Optimal parameter values for P0: 100.3, rate: 0.05983, and K: 994\n",
            "\n"
          ]
        }
      ],
      "source": [
        "print(f\"Optimal parameter values for P0: {logistic_popt_str[0]}, rate: {logistic_popt_str[1]}, and K: {logistic_popt_str[2]}\\n\")"
      ]
    },
    {
      "cell_type": "markdown",
      "id": "09903214-aaff-458e-9e84-2429f5136a45",
      "metadata": {
        "id": "09903214-aaff-458e-9e84-2429f5136a45"
      },
      "source": [
        "### Plot the data and overlay the model fit\n",
        "To visualize on the plot we must convert to normalized log2 scale. We will also include a linear model fit for comparison (standard output of seaborn's `regplot`."
      ]
    },
    {
      "cell_type": "code",
      "execution_count": null,
      "id": "2c0cd14d-55a1-4c7a-ad11-f868d49addfa",
      "metadata": {
        "colab": {
          "base_uri": "https://localhost:8080/",
          "height": 315
        },
        "id": "2c0cd14d-55a1-4c7a-ad11-f868d49addfa",
        "outputId": "a88a88ce-f5b5-4a79-d57a-705724cbab31"
      },
      "outputs": [
        {
          "output_type": "execute_result",
          "data": {
            "text/plain": [
              "<AxesSubplot:xlabel='time', ylabel='pd'>"
            ]
          },
          "metadata": {},
          "execution_count": 37
        },
        {
          "output_type": "display_data",
          "data": {
            "text/plain": [
              "<Figure size 432x288 with 1 Axes>"
            ],
            "image/png": "[encoded data removed]"
          },
          "metadata": {
            "needs_background": "light"
          }
        }
      ],
      "source": [
        "x_pred = np.linspace(min(times_by3),max(times_by3),100)\n",
        "y_pred = mylogistic(x_pred, *logistic_popt)\n",
        "y_pred = np.log2(y_pred/y_pred[0])\n",
        "sns.regplot(x=\"time\", y=\"pd\", data=sim_data)\n",
        "sns.lineplot(x=x_pred, \n",
        "             y=y_pred, \n",
        "             color=\"red\")"
      ]
    },
    {
      "cell_type": "markdown",
      "id": "f2014d0a-cbb7-4e39-9a71-cd77c70535e6",
      "metadata": {
        "id": "f2014d0a-cbb7-4e39-9a71-cd77c70535e6"
      },
      "source": [
        "Do the same for a Gompertz model."
      ]
    },
    {
      "cell_type": "code",
      "execution_count": null,
      "id": "f57f9d8e-5782-4ec0-aa60-7115c5c86c65",
      "metadata": {
        "id": "f57f9d8e-5782-4ec0-aa60-7115c5c86c65"
      },
      "outputs": [],
      "source": [
        "gompertz_popt, gompertz_pcov = curve_fit(gompertz, sim_data[\"time\"], sim_data[\"cell.count\"])\n",
        "gompertz_popt_str = [\"{0:.4g}\".format(x) for x in gompertz_popt]\n"
      ]
    },
    {
      "cell_type": "code",
      "execution_count": null,
      "id": "644dd92a-ca26-4129-aa05-4f8c2014d5df",
      "metadata": {
        "colab": {
          "base_uri": "https://localhost:8080/"
        },
        "id": "644dd92a-ca26-4129-aa05-4f8c2014d5df",
        "outputId": "e565e3e5-4864-4dfb-ff26-70db4b8c7c1f"
      },
      "outputs": [
        {
          "output_type": "stream",
          "name": "stdout",
          "text": [
            "Optimal parameter values for P0: 61.38, rate: 0.03833, and K: 1037\n",
            "\n"
          ]
        }
      ],
      "source": [
        "print(f\"Optimal parameter values for P0: {gompertz_popt_str[0]}, rate: {gompertz_popt_str[1]}, and K: {gompertz_popt_str[2]}\\n\")"
      ]
    },
    {
      "cell_type": "code",
      "execution_count": null,
      "id": "59b4da50-59c3-4eb8-8445-d2c09b9a4081",
      "metadata": {
        "colab": {
          "base_uri": "https://localhost:8080/",
          "height": 315
        },
        "id": "59b4da50-59c3-4eb8-8445-d2c09b9a4081",
        "outputId": "42054a64-1d13-48a2-faa0-37e70e682de3"
      },
      "outputs": [
        {
          "output_type": "execute_result",
          "data": {
            "text/plain": [
              "<AxesSubplot:xlabel='time', ylabel='pd'>"
            ]
          },
          "metadata": {},
          "execution_count": 40
        },
        {
          "output_type": "display_data",
          "data": {
            "text/plain": [
              "<Figure size 432x288 with 1 Axes>"
            ],
            "image/png": "[encoded data removed]"
          },
          "metadata": {
            "needs_background": "light"
          }
        }
      ],
      "source": [
        "x_pred = np.linspace(min(times_by3),max(times_by3),100)\n",
        "y_pred = gompertz(x_pred, *gompertz_popt)\n",
        "y_pred = np.log2(y_pred/y_pred[0])\n",
        "sns.regplot(x=\"time\", y=\"pd\", data=sim_data)\n",
        "sns.lineplot(x=x_pred, \n",
        "             y=y_pred, \n",
        "             color=\"red\")"
      ]
    },
    {
      "cell_type": "markdown",
      "id": "5de323d7-c662-4a00-b5ae-7fe19b3074e2",
      "metadata": {
        "id": "5de323d7-c662-4a00-b5ae-7fe19b3074e2"
      },
      "source": [
        "### Limitations of these nonlinear growth models\n",
        "#### Both logistic and Gompertz models:  \n",
        "* Are phenomenological (they describe the result, not the cause)\n",
        "* Use a carrying capacity parameter ($K$); this may be relevant to space available in a culture well and/or average cell size, but how would you interpret different values in response to drug?  \n",
        "\n",
        "#### Gompertzian model:\n",
        "* Has initial assumptions that do not correspond to a stable, exponentially dividing population (infinite rate at time=0, rate is continually changing)\n"
      ]
    },
    {
      "cell_type": "markdown",
      "id": "411ea7d9-fcf1-44aa-92bd-4ce8fdcb1ddb",
      "metadata": {
        "id": "411ea7d9-fcf1-44aa-92bd-4ce8fdcb1ddb"
      },
      "source": [
        "## Assignment task (extra credit)\n",
        "### How many days would it take for a single tumor cell to grow to a tumor the size of an egg?\n",
        "\n",
        "\n",
        "**Assumptions:**\n",
        "* There are ~ $10^9$ tumor cells  in 1 cm$^3$ (~1 g)\n",
        "* Tumor Cell ≈ 1ng\n",
        "* Egg ≈ 35g\n",
        "* Average time per division (doubling time) ≈ 18h\n",
        "* Doubling rate = 1/doubling time\n",
        "* Population doubling equation: $P(t) = P_02^{rate*t}$\n"
      ]
    },
    {
      "cell_type": "markdown",
      "id": "4cb40054",
      "metadata": {
        "id": "4cb40054"
      },
      "source": [
        "<table>\n",
        "    <tr>\n",
        "        <td>\n",
        "        <img src=\"https://github.com/VU-CSP/quantbio-assignments/blob/main/img/cell_division.png?raw=1\" style=\"width: 150px;\" align=\"middle\" /> \n",
        "        <td>\n",
        "            $\\Longrightarrow$ $\\Longrightarrow$\n",
        "        <td>\n",
        "            <img src=\"https://github.com/VU-CSP/quantbio-assignments/blob/main/img/tumor.png?raw=1\" style=\"width: 150px;\"  align=\"middle\" />\n",
        "    </tr>\n",
        "</table>\n",
        "\n"
      ]
    },
    {
      "cell_type": "markdown",
      "id": "c2f24f5b-7c9d-4a8a-b616-2721a4bc434c",
      "metadata": {
        "id": "c2f24f5b-7c9d-4a8a-b616-2721a4bc434c"
      },
      "source": [
        "_Try to write a function that calculates this. Start of function definition is provided in code block below._  \n",
        "NOTE: to calculate log2, use the numpy function `np.log2()`  \n",
        "NOTE: check the units!"
      ]
    },
    {
      "cell_type": "code",
      "execution_count": null,
      "metadata": {
        "id": "Fc6GfVoQQl0_"
      },
      "outputs": [],
      "source": [
        "P0=1\n",
        "egg=35/(10**-9)\n",
        "DT=18\n",
        "def timeToEgg(P0, egg, DT):\n",
        "    '''\n",
        "    P0=initial cell number\n",
        "    egg=number of tumor cells in an egg-size tumor\n",
        "    DT=time to double the population size (i.e., the average cell cycle time)\n",
        "    '''\n",
        "    logpt=np.log2(egg) \n",
        "    logpo=np.log2(P0)\n",
        "    sublogs=logpt-logpo\n",
        "    doublerate=1/DT\n",
        "    time=sublogs/doublerate \n",
        "    timedays=time/24\n",
        "    #Add code for the function here\n",
        "    return(timedays)"
      ],
      "id": "Fc6GfVoQQl0_"
    },
    {
      "cell_type": "markdown",
      "id": "fc218c88-2a9f-40d0-9995-1c50e4543890",
      "metadata": {
        "id": "fc218c88-2a9f-40d0-9995-1c50e4543890"
      },
      "source": [
        "### Calculate time to egg-sized tumor from 100 cells\n",
        "Do the calculation using the function you made.\n"
      ]
    },
    {
      "cell_type": "code",
      "execution_count": null,
      "id": "eac88800-2715-41ee-a061-953435113623",
      "metadata": {
        "id": "eac88800-2715-41ee-a061-953435113623"
      },
      "outputs": [],
      "source": [
        "# Execute your function with the correct input argument values.\n",
        "# timeToEgg(P0=100,egg=<egg_val>,DT=<DT_val>)\n"
      ]
    },
    {
      "cell_type": "code",
      "execution_count": null,
      "id": "6aef3847-ab37-42cd-9f62-fd6a512d36a7",
      "metadata": {
        "id": "6aef3847-ab37-42cd-9f62-fd6a512d36a7",
        "colab": {
          "base_uri": "https://localhost:8080/"
        },
        "outputId": "eb5eba85-badc-4f5f-e6cd-b467e2c1fb98"
      },
      "outputs": [
        {
          "output_type": "execute_result",
          "data": {
            "text/plain": [
              "26.269976903198426"
            ]
          },
          "metadata": {},
          "execution_count": 44
        }
      ],
      "source": [
        "timeToEgg(P0, egg, DT)"
      ]
    }
  ],
  "metadata": {
    "colab": {
      "provenance": [],
      "include_colab_link": true
    },
    "kernelspec": {
      "display_name": "Python 3 (ipykernel)",
      "language": "python",
      "name": "python3"
    },
    "language_info": {
      "codemirror_mode": {
        "name": "ipython",
        "version": 3
      },
      "file_extension": ".py",
      "mimetype": "text/x-python",
      "name": "python",
      "nbconvert_exporter": "python",
      "pygments_lexer": "ipython3",
      "version": "3.7.11"
    }
  },
  "nbformat": 4,
  "nbformat_minor": 5
}